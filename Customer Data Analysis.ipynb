{
 "cells": [
  {
   "cell_type": "markdown",
   "id": "d0ba36da",
   "metadata": {},
   "source": [
    "# Importing Libraries & Loading the Data"
   ]
  },
  {
   "cell_type": "code",
   "execution_count": 1,
   "id": "deecf3ed",
   "metadata": {},
   "outputs": [],
   "source": [
    "import pandas as pd\n",
    "import numpy as np\n",
    "import matplotlib.pyplot as plt\n",
    "import seaborn as sns\n",
    "from sklearn.model_selection import train_test_split #Import train_test_split from sklearn.model_selection module \n",
    "import warnings\n",
    "warnings.filterwarnings('ignore')"
   ]
  },
  {
   "cell_type": "code",
   "execution_count": 144,
   "id": "b3acb8b8",
   "metadata": {},
   "outputs": [],
   "source": [
    "customer = pd.read_excel(\"Question 3 Data Set.xlsx\")"
   ]
  },
  {
   "cell_type": "markdown",
   "id": "8961a6e2",
   "metadata": {},
   "source": [
    "# EDA & Preprocessing, Groupby Functions"
   ]
  },
  {
   "cell_type": "code",
   "execution_count": 92,
   "id": "a80996e0",
   "metadata": {},
   "outputs": [
    {
     "data": {
      "text/html": [
       "<div>\n",
       "<style scoped>\n",
       "    .dataframe tbody tr th:only-of-type {\n",
       "        vertical-align: middle;\n",
       "    }\n",
       "\n",
       "    .dataframe tbody tr th {\n",
       "        vertical-align: top;\n",
       "    }\n",
       "\n",
       "    .dataframe thead th {\n",
       "        text-align: right;\n",
       "    }\n",
       "</style>\n",
       "<table border=\"1\" class=\"dataframe\">\n",
       "  <thead>\n",
       "    <tr style=\"text-align: right;\">\n",
       "      <th></th>\n",
       "      <th>Sales Zone</th>\n",
       "      <th>Billing Date</th>\n",
       "      <th>Customer Code</th>\n",
       "      <th>Distributor</th>\n",
       "      <th>Material Code</th>\n",
       "      <th>Product Type</th>\n",
       "      <th>Pack Classification</th>\n",
       "      <th>Pack Type</th>\n",
       "      <th>Pack Size</th>\n",
       "      <th>YTD Vol (MT)</th>\n",
       "    </tr>\n",
       "  </thead>\n",
       "  <tbody>\n",
       "    <tr>\n",
       "      <th>0</th>\n",
       "      <td>EAST</td>\n",
       "      <td>2019-08-02</td>\n",
       "      <td>2111797</td>\n",
       "      <td>UNIVERSAL TRADE &amp; AGENCY</td>\n",
       "      <td>FBR08A30416B10</td>\n",
       "      <td>BASMATI RICE</td>\n",
       "      <td>BP</td>\n",
       "      <td>BAG</td>\n",
       "      <td>25 KG</td>\n",
       "      <td>157.35</td>\n",
       "    </tr>\n",
       "    <tr>\n",
       "      <th>1</th>\n",
       "      <td>EAST</td>\n",
       "      <td>2019-09-10</td>\n",
       "      <td>2111797</td>\n",
       "      <td>UNIVERSAL TRADE &amp; AGENCY</td>\n",
       "      <td>FBR04A20102B10</td>\n",
       "      <td>BASMATI RICE</td>\n",
       "      <td>BP</td>\n",
       "      <td>BAG</td>\n",
       "      <td>25 KG</td>\n",
       "      <td>128.00</td>\n",
       "    </tr>\n",
       "    <tr>\n",
       "      <th>2</th>\n",
       "      <td>EAST</td>\n",
       "      <td>2019-08-12</td>\n",
       "      <td>2111797</td>\n",
       "      <td>UNIVERSAL TRADE &amp; AGENCY</td>\n",
       "      <td>FBR08A30416B10</td>\n",
       "      <td>BASMATI RICE</td>\n",
       "      <td>BP</td>\n",
       "      <td>BAG</td>\n",
       "      <td>25 KG</td>\n",
       "      <td>67.00</td>\n",
       "    </tr>\n",
       "    <tr>\n",
       "      <th>3</th>\n",
       "      <td>EAST</td>\n",
       "      <td>2019-04-06</td>\n",
       "      <td>2111797</td>\n",
       "      <td>UNIVERSAL TRADE &amp; AGENCY</td>\n",
       "      <td>FBR08A10416B10</td>\n",
       "      <td>BASMATI RICE</td>\n",
       "      <td>BP</td>\n",
       "      <td>BAG</td>\n",
       "      <td>25 KG</td>\n",
       "      <td>64.00</td>\n",
       "    </tr>\n",
       "    <tr>\n",
       "      <th>4</th>\n",
       "      <td>EAST</td>\n",
       "      <td>2019-05-11</td>\n",
       "      <td>2111797</td>\n",
       "      <td>UNIVERSAL TRADE &amp; AGENCY</td>\n",
       "      <td>FBR08A30416B10</td>\n",
       "      <td>BASMATI RICE</td>\n",
       "      <td>BP</td>\n",
       "      <td>BAG</td>\n",
       "      <td>25 KG</td>\n",
       "      <td>64.00</td>\n",
       "    </tr>\n",
       "  </tbody>\n",
       "</table>\n",
       "</div>"
      ],
      "text/plain": [
       "  Sales Zone Billing Date  Customer Code               Distributor  \\\n",
       "0       EAST   2019-08-02        2111797  UNIVERSAL TRADE & AGENCY   \n",
       "1       EAST   2019-09-10        2111797  UNIVERSAL TRADE & AGENCY   \n",
       "2       EAST   2019-08-12        2111797  UNIVERSAL TRADE & AGENCY   \n",
       "3       EAST   2019-04-06        2111797  UNIVERSAL TRADE & AGENCY   \n",
       "4       EAST   2019-05-11        2111797  UNIVERSAL TRADE & AGENCY   \n",
       "\n",
       "    Material Code  Product Type Pack Classification Pack Type Pack Size  \\\n",
       "0  FBR08A30416B10  BASMATI RICE                  BP       BAG     25 KG   \n",
       "1  FBR04A20102B10  BASMATI RICE                  BP       BAG     25 KG   \n",
       "2  FBR08A30416B10  BASMATI RICE                  BP       BAG     25 KG   \n",
       "3  FBR08A10416B10  BASMATI RICE                  BP       BAG     25 KG   \n",
       "4  FBR08A30416B10  BASMATI RICE                  BP       BAG     25 KG   \n",
       "\n",
       "   YTD Vol (MT)  \n",
       "0        157.35  \n",
       "1        128.00  \n",
       "2         67.00  \n",
       "3         64.00  \n",
       "4         64.00  "
      ]
     },
     "execution_count": 92,
     "metadata": {},
     "output_type": "execute_result"
    }
   ],
   "source": [
    "customer.head()"
   ]
  },
  {
   "cell_type": "code",
   "execution_count": 93,
   "id": "5e09b885",
   "metadata": {},
   "outputs": [
    {
     "data": {
      "text/html": [
       "<div>\n",
       "<style scoped>\n",
       "    .dataframe tbody tr th:only-of-type {\n",
       "        vertical-align: middle;\n",
       "    }\n",
       "\n",
       "    .dataframe tbody tr th {\n",
       "        vertical-align: top;\n",
       "    }\n",
       "\n",
       "    .dataframe thead th {\n",
       "        text-align: right;\n",
       "    }\n",
       "</style>\n",
       "<table border=\"1\" class=\"dataframe\">\n",
       "  <thead>\n",
       "    <tr style=\"text-align: right;\">\n",
       "      <th></th>\n",
       "      <th>Sales Zone</th>\n",
       "      <th>Billing Date</th>\n",
       "      <th>Customer Code</th>\n",
       "      <th>Distributor</th>\n",
       "      <th>Material Code</th>\n",
       "      <th>Product Type</th>\n",
       "      <th>Pack Classification</th>\n",
       "      <th>Pack Type</th>\n",
       "      <th>Pack Size</th>\n",
       "      <th>YTD Vol (MT)</th>\n",
       "    </tr>\n",
       "  </thead>\n",
       "  <tbody>\n",
       "    <tr>\n",
       "      <th>91104</th>\n",
       "      <td>EAST</td>\n",
       "      <td>2019-12-27</td>\n",
       "      <td>2116123</td>\n",
       "      <td>BIPLAB PAL</td>\n",
       "      <td>FATTA5091P07V1N2E</td>\n",
       "      <td>CHAKKI ATTA</td>\n",
       "      <td>CP</td>\n",
       "      <td>POUCH</td>\n",
       "      <td>1 KG</td>\n",
       "      <td>-3.75</td>\n",
       "    </tr>\n",
       "    <tr>\n",
       "      <th>91105</th>\n",
       "      <td>EAST</td>\n",
       "      <td>2019-06-03</td>\n",
       "      <td>2117167</td>\n",
       "      <td>RELIANCE RETAIL LTD CNC</td>\n",
       "      <td>FATTA5091B09N2ES1</td>\n",
       "      <td>CHAKKI ATTA</td>\n",
       "      <td>CP</td>\n",
       "      <td>BAG</td>\n",
       "      <td>10 KG</td>\n",
       "      <td>-3.99</td>\n",
       "    </tr>\n",
       "    <tr>\n",
       "      <th>91106</th>\n",
       "      <td>EAST</td>\n",
       "      <td>2019-04-18</td>\n",
       "      <td>2119186</td>\n",
       "      <td>SHIV SHANKAR EDIBLE PVT LTD</td>\n",
       "      <td>FATTA5093B15N2E</td>\n",
       "      <td>CHAKKI ATTA</td>\n",
       "      <td>BP</td>\n",
       "      <td>BAG</td>\n",
       "      <td>50 KG</td>\n",
       "      <td>-5.00</td>\n",
       "    </tr>\n",
       "    <tr>\n",
       "      <th>91107</th>\n",
       "      <td>EAST</td>\n",
       "      <td>2019-08-02</td>\n",
       "      <td>2111229</td>\n",
       "      <td>M/S BALAJEE TRADING</td>\n",
       "      <td>FNUGG3061P07</td>\n",
       "      <td>REGULAR SOYA NUGGETS</td>\n",
       "      <td>CP</td>\n",
       "      <td>POUCH</td>\n",
       "      <td>1 KG</td>\n",
       "      <td>-5.46</td>\n",
       "    </tr>\n",
       "    <tr>\n",
       "      <th>91108</th>\n",
       "      <td>EAST</td>\n",
       "      <td>2020-03-23</td>\n",
       "      <td>2124345</td>\n",
       "      <td>AMAZON RETAIL INDIA PVT LTD</td>\n",
       "      <td>FATTA5091B10N2E</td>\n",
       "      <td>CHAKKI ATTA</td>\n",
       "      <td>CP</td>\n",
       "      <td>BAG</td>\n",
       "      <td>10 KG</td>\n",
       "      <td>-12.00</td>\n",
       "    </tr>\n",
       "  </tbody>\n",
       "</table>\n",
       "</div>"
      ],
      "text/plain": [
       "      Sales Zone Billing Date  Customer Code                  Distributor  \\\n",
       "91104       EAST   2019-12-27        2116123                   BIPLAB PAL   \n",
       "91105       EAST   2019-06-03        2117167      RELIANCE RETAIL LTD CNC   \n",
       "91106       EAST   2019-04-18        2119186  SHIV SHANKAR EDIBLE PVT LTD   \n",
       "91107       EAST   2019-08-02        2111229          M/S BALAJEE TRADING   \n",
       "91108       EAST   2020-03-23        2124345  AMAZON RETAIL INDIA PVT LTD   \n",
       "\n",
       "           Material Code          Product Type Pack Classification Pack Type  \\\n",
       "91104  FATTA5091P07V1N2E           CHAKKI ATTA                  CP     POUCH   \n",
       "91105  FATTA5091B09N2ES1           CHAKKI ATTA                  CP       BAG   \n",
       "91106    FATTA5093B15N2E           CHAKKI ATTA                  BP       BAG   \n",
       "91107       FNUGG3061P07  REGULAR SOYA NUGGETS                  CP     POUCH   \n",
       "91108    FATTA5091B10N2E           CHAKKI ATTA                  CP       BAG   \n",
       "\n",
       "      Pack Size  YTD Vol (MT)  \n",
       "91104      1 KG         -3.75  \n",
       "91105     10 KG         -3.99  \n",
       "91106     50 KG         -5.00  \n",
       "91107      1 KG         -5.46  \n",
       "91108     10 KG        -12.00  "
      ]
     },
     "execution_count": 93,
     "metadata": {},
     "output_type": "execute_result"
    }
   ],
   "source": [
    "customer.tail()"
   ]
  },
  {
   "cell_type": "code",
   "execution_count": 94,
   "id": "87a2b1da",
   "metadata": {},
   "outputs": [
    {
     "data": {
      "text/plain": [
       "(91109, 10)"
      ]
     },
     "execution_count": 94,
     "metadata": {},
     "output_type": "execute_result"
    }
   ],
   "source": [
    "customer.shape"
   ]
  },
  {
   "cell_type": "code",
   "execution_count": 95,
   "id": "b0f1a3dc",
   "metadata": {},
   "outputs": [
    {
     "name": "stdout",
     "output_type": "stream",
     "text": [
      "<class 'pandas.core.frame.DataFrame'>\n",
      "RangeIndex: 91109 entries, 0 to 91108\n",
      "Data columns (total 10 columns):\n",
      " #   Column               Non-Null Count  Dtype         \n",
      "---  ------               --------------  -----         \n",
      " 0   Sales Zone           91109 non-null  object        \n",
      " 1   Billing Date         91109 non-null  datetime64[ns]\n",
      " 2   Customer Code        91109 non-null  int64         \n",
      " 3   Distributor          91109 non-null  object        \n",
      " 4   Material Code        91109 non-null  object        \n",
      " 5   Product Type         91109 non-null  object        \n",
      " 6   Pack Classification  91109 non-null  object        \n",
      " 7   Pack Type            91109 non-null  object        \n",
      " 8   Pack Size            91109 non-null  object        \n",
      " 9   YTD Vol (MT)         91109 non-null  float64       \n",
      "dtypes: datetime64[ns](1), float64(1), int64(1), object(7)\n",
      "memory usage: 7.0+ MB\n"
     ]
    }
   ],
   "source": [
    "customer.info()"
   ]
  },
  {
   "cell_type": "code",
   "execution_count": 96,
   "id": "4bf378cd",
   "metadata": {},
   "outputs": [
    {
     "data": {
      "text/plain": [
       "Index(['Sales Zone', 'Billing Date', 'Customer Code', 'Distributor',\n",
       "       'Material Code', 'Product Type', 'Pack Classification', 'Pack Type',\n",
       "       'Pack Size', 'YTD Vol (MT)'],\n",
       "      dtype='object')"
      ]
     },
     "execution_count": 96,
     "metadata": {},
     "output_type": "execute_result"
    }
   ],
   "source": [
    "customer.columns"
   ]
  },
  {
   "cell_type": "code",
   "execution_count": 97,
   "id": "b7f1e62b",
   "metadata": {},
   "outputs": [
    {
     "data": {
      "text/html": [
       "<div>\n",
       "<style scoped>\n",
       "    .dataframe tbody tr th:only-of-type {\n",
       "        vertical-align: middle;\n",
       "    }\n",
       "\n",
       "    .dataframe tbody tr th {\n",
       "        vertical-align: top;\n",
       "    }\n",
       "\n",
       "    .dataframe thead th {\n",
       "        text-align: right;\n",
       "    }\n",
       "</style>\n",
       "<table border=\"1\" class=\"dataframe\">\n",
       "  <thead>\n",
       "    <tr style=\"text-align: right;\">\n",
       "      <th></th>\n",
       "      <th>Customer Code</th>\n",
       "      <th>YTD Vol (MT)</th>\n",
       "    </tr>\n",
       "  </thead>\n",
       "  <tbody>\n",
       "    <tr>\n",
       "      <th>count</th>\n",
       "      <td>9.110900e+04</td>\n",
       "      <td>91109.000000</td>\n",
       "    </tr>\n",
       "    <tr>\n",
       "      <th>mean</th>\n",
       "      <td>2.115771e+06</td>\n",
       "      <td>0.613356</td>\n",
       "    </tr>\n",
       "    <tr>\n",
       "      <th>std</th>\n",
       "      <td>4.864312e+03</td>\n",
       "      <td>2.174308</td>\n",
       "    </tr>\n",
       "    <tr>\n",
       "      <th>min</th>\n",
       "      <td>2.110342e+06</td>\n",
       "      <td>-12.000000</td>\n",
       "    </tr>\n",
       "    <tr>\n",
       "      <th>25%</th>\n",
       "      <td>2.111849e+06</td>\n",
       "      <td>0.040000</td>\n",
       "    </tr>\n",
       "    <tr>\n",
       "      <th>50%</th>\n",
       "      <td>2.114810e+06</td>\n",
       "      <td>0.108000</td>\n",
       "    </tr>\n",
       "    <tr>\n",
       "      <th>75%</th>\n",
       "      <td>2.117300e+06</td>\n",
       "      <td>0.352000</td>\n",
       "    </tr>\n",
       "    <tr>\n",
       "      <th>max</th>\n",
       "      <td>2.128682e+06</td>\n",
       "      <td>157.350000</td>\n",
       "    </tr>\n",
       "  </tbody>\n",
       "</table>\n",
       "</div>"
      ],
      "text/plain": [
       "       Customer Code  YTD Vol (MT)\n",
       "count   9.110900e+04  91109.000000\n",
       "mean    2.115771e+06      0.613356\n",
       "std     4.864312e+03      2.174308\n",
       "min     2.110342e+06    -12.000000\n",
       "25%     2.111849e+06      0.040000\n",
       "50%     2.114810e+06      0.108000\n",
       "75%     2.117300e+06      0.352000\n",
       "max     2.128682e+06    157.350000"
      ]
     },
     "execution_count": 97,
     "metadata": {},
     "output_type": "execute_result"
    }
   ],
   "source": [
    "customer.describe()"
   ]
  },
  {
   "cell_type": "code",
   "execution_count": 98,
   "id": "ddd99807",
   "metadata": {},
   "outputs": [
    {
     "data": {
      "text/plain": [
       "array(['EAST'], dtype=object)"
      ]
     },
     "execution_count": 98,
     "metadata": {},
     "output_type": "execute_result"
    }
   ],
   "source": [
    "customer['Sales Zone'].unique()"
   ]
  },
  {
   "cell_type": "code",
   "execution_count": 99,
   "id": "a2e8d430",
   "metadata": {},
   "outputs": [
    {
     "data": {
      "text/plain": [
       "array(['UNIVERSAL TRADE & AGENCY', 'AMAZON RETAIL INDIA PVT LTD',\n",
       "       'SUBUDHI TRADERS', 'MANPASAND AGRO FOOD PVT LTD', 'SHANKAR STORE',\n",
       "       'ARUNA ENTERPRISE', 'ROUNAK DISTRIBUTORS', 'SAMLESWARI TRADERS',\n",
       "       'JAGDISH PRASAD ANAND KUMAR', 'MORE RETAIL PRIVATE LIMITED',\n",
       "       'OM PRAKASH GOURI SHANKAR', \"SPENCER'S RETAIL LTD\", 'JAIN STORES',\n",
       "       'R K ENTERPRISES', 'ANIL TRADERS', 'JAIN BHANDAR',\n",
       "       'DEVEE DISTRIBUTORS', 'JAI KRISHNA AGRIBIZ PVT LTD',\n",
       "       'SHAW TRADERS', 'MATHURA PRASAD MANOJ KUMAR',\n",
       "       'SHREE MAHADEV TRADING COMPANY', 'GOYAL TRADING CO',\n",
       "       'MAHABIR STORE', 'BAGWAN', 'SREE VENKATESWARA ENTERPRISES',\n",
       "       'SHREE GANGA ENTERPRISES', 'AGRO POINT', 'BENGAL TRADING COMPANY',\n",
       "       'BANSAL TRADING COMPANY', 'JAYASHREE ENTERPRISES',\n",
       "       'MANJUSHREE ENTERPRISES', 'AMIT ENTERPRISE', 'MAA SARADA STORES',\n",
       "       'UDAYNATH TRADING & CO', 'MAHALAXMI BHANDAR',\n",
       "       'UNIVERSAL AGENCY HOUSE', 'SRIKANTA STORE', 'SALASAR FOODS',\n",
       "       'MAHALAXMI TRADING COMPANY', 'HARIBOL TRADERS',\n",
       "       'SHYAM TRADING & MARKETING COMPANY', 'J B DISTRIBUTOR',\n",
       "       'BIHARIJEE TRADERS', 'RAKSHA TRADERS', 'SHREE STORE',\n",
       "       'MAHALAXMI BANIJYA PRATISTHAN', 'NARSINGH TRADING AGENCY',\n",
       "       'RADHESHYAM MAHESH KUMAR', 'SHERAWALI TRADING COMPANY',\n",
       "       'PRATEEK INDUSTRIES', 'GOYAL TRADERS', 'R S OIL MILL',\n",
       "       'BISHAL TRADING', 'AMBIKA COMMERCIAL AGENCY', 'NIKITA SALES',\n",
       "       'METRO CASH & CARRY INDIA PVT LTD', 'PRAKASH BHANDAR',\n",
       "       'SANJAYA STORE', 'BHAWANI TRADING COMPANY',\n",
       "       'SRI SANJAY TRADERS PVT LTD', 'SRI SHYAM ENTERPRISES',\n",
       "       'P.R.P ENTERPRISE', 'K K TRADE COM PVT LTD', 'VINAYAK ENTERPRISES',\n",
       "       'S P AGENCY', 'SINGH & SONS', 'AMRIT AGENCIES',\n",
       "       'BANSAL CONTRACTORS PVT LTD', 'RANI SATI AGRO OIL PVT LTD',\n",
       "       'SHRI KRISHNA AGENCY', 'TIRUPATI TRADERS', 'SUNIL TRADERS',\n",
       "       'MURARILAL & CO', 'RELIANCE RETAIL LTD CNC',\n",
       "       'JAI HIND ENTERPRISES', 'OM SAI TRADERS', 'BHADRAK KALI BHANDAR',\n",
       "       'ROSHAN ENTERPRISES', 'MAA SINGHABAHINI ENTERPRISES', 'ANIL KUMAR',\n",
       "       'REKHAWHEELS&GAJANANDAAGARWALLA', \"DEY'S AGENCIES\",\n",
       "       'KRISHNA TRADERS', 'AMIT TRADERS', 'SHREE GANESH TRADERS',\n",
       "       'R K TRADING CO', 'RATHI TRADERS', 'GURMEET TRADERS',\n",
       "       'SHIV TRADING COMPANY', 'BHOLA TRADERS', 'SAI ENTERPRISES',\n",
       "       'RIDHI SIDHI', 'INTEGRATED MARKETING',\n",
       "       'SUBHKARAN DAS PURSOTTAM DAS', 'RADHEY SHYAM GUPTA',\n",
       "       'SHREE JANKI BHANDAR', 'NIDHI ENTERPRISE',\n",
       "       'SHIV SHANKAR EDIBLE PVT LTD', 'GANGADHAR SAHOO', 'ABHINANDAN',\n",
       "       'SHREE LAKSHMI ENTERPRISES',\n",
       "       'CHANDRA DEEP FABRICS & STYLE PVT LTD', 'R K AGENCIES',\n",
       "       'SUPERMARKET GROCERY SUPPLIES PVT LT', 'PRAMOD AUTO AGENCIES',\n",
       "       'GRIHASTHI', 'SRI BALAJI DISTRIBUTORS', 'GOURI SHANKAR TRADERS',\n",
       "       'T D TRADING', 'NEW HANUMAN BHANDAR', 'ATITHI AGRO PRODUCTS LLP',\n",
       "       'KIRAN DUTTA BANIK', 'MANURAM BABULAL', 'GOEL UDYOG AGENCIES',\n",
       "       'SITALA ENTERPRISES', 'ARUN ENTERPRISES',\n",
       "       'SHREE RADHESHYAM AGENCY', 'PUNOM FOODS', 'MAHESH STORES',\n",
       "       'SRI BALAJEE TRADERS', 'BEHERA AGENCY',\n",
       "       'SRI KRISHNA PRASAD & SONS', 'MAA TARA STORES',\n",
       "       'SANJAY SALES AGENCIES', 'BHAKTI ASSOCIATES', 'OM PRAKASH BARNWAL',\n",
       "       'KAILASH STORES', 'GUNCHAND DALCHAND',\n",
       "       'MAHABIR PRASAD MAHENDRA KUMAR', 'NEW KRISHNA VARRIETIES',\n",
       "       'PARI ENTERPRISES', 'GAJANAN STORE', 'JAIN TRADING COMPANY',\n",
       "       'SHREE RAM BHANDAR', 'APURBA STORE', 'M/S BALAJEE TRADING',\n",
       "       'J P ENTERPRISES', 'RELIANCE RETAIL LTD', 'ANITA AGENCY',\n",
       "       'SHREE HARI AGENCY', 'BROJESH TRADING', 'VIIZETHA TRADERS',\n",
       "       'JAY MAA TARA BHANDAR', 'GANGA BISHAN MURLIDHAR',\n",
       "       'RATAN LAL RAVINDRA KUMAR', 'SHYAM BHANDAR',\n",
       "       'RAM NARAYAN RATAN LAL', 'MARUTI SALES', 'LOKNATH SAHA',\n",
       "       'NIRMALA ENTERPRISE', 'NAMOKAR TRADING', 'VIJAY STORES',\n",
       "       'M/S TARANA STORE', 'T IGNI SUBUDHI & SONS',\n",
       "       'JAGANNATH GENERAL STORE', 'BROTHER ENTERPRISE', 'PRASAD BROTHERS',\n",
       "       'GANAPATI ENTERPRISES', 'BINDAL AGENCY', 'NAMOKAR TRADING COMPANY',\n",
       "       'SEFALI COMMERCIAL PVT LTD', 'RAJESH TRADING COMPANY',\n",
       "       'SHYAM ASSOCIATES', 'RAHUL TRADING CO', 'ANNAPURNA TRADE CENTRE',\n",
       "       'SAHA TRADING CO', 'HINDUSTAN TRADERS', 'MORE BROTHERS',\n",
       "       'G D STORES', 'KPS TRADE COM PVT LTD', 'BANIK STORES',\n",
       "       'JAI BHAWANI TRADERS', 'MAA AGENCY', 'HARI OM TRADERS',\n",
       "       'AMARNATH ENTERPRISE', 'MANGAL BHANDAR', 'M M DISTRIBUTOR',\n",
       "       'AGRAWAL TRADING COMPANY', 'LAKSHMI SREE BHANDAR', 'GOPAL BHANDAR',\n",
       "       'SHREE MART', 'UTPAL AGENCY', 'TIRUPATI SALES AGENCY',\n",
       "       'SANDHYA ENTERPRISE', 'PRUSTY BROTHERS', 'SAKSHI TRADERS',\n",
       "       'MAHADEOLAL BAJRANG LAL', 'MAA DURGA ENTERPRISE',\n",
       "       'KRISHNA ENTERPRISES', 'P M DISTRIBUTORS', 'SHAW TRADING',\n",
       "       'BASANTALAL SANGHI', 'DEV SALES', 'GUPTA GENERAL STORE',\n",
       "       'RAJ KUMAR MANOJ KUMAR', 'SURAJ & CO', 'UTTAM STORES',\n",
       "       'M/S ANAND STORE', 'CENTRAL POLICE CANTEEN CRPF',\n",
       "       'BEHARILAL MAKHANLAL', 'MUKUL UDYOG',\n",
       "       'SHREE SATI SUMANGAL PVT LTD', 'VIVEKANANDA HATY',\n",
       "       'MAHAVIR TRADERS', 'KISHAN ENTERPRISES', 'INDRAJIT DUTTA',\n",
       "       'ASMITA ENTERPRISE', 'TARA TARINI TRADERS', 'UTTAM BHANDER',\n",
       "       'KUNDU & CO', 'KINKAR NATH DUTTA & OTHERS', 'CHANCHALA AGENCIES',\n",
       "       'DIBYAJYOTI TRADERS', 'TIRUPATI SALES CORPORATION', 'GOYAL TRADER',\n",
       "       'BABA TARAKNATH STORES PVT LTD', 'STC BSF MERU CAMP - HAZARIBAG',\n",
       "       'SARKAR AGENCY', 'SOMA ENTERPRISES', 'CHOWDHURY TRADING COMPANY',\n",
       "       'JANANI TRADING', 'BAJRANG TRADING COMPANY',\n",
       "       'SANJAY KUMAR AJAY KUMAR', 'RAJU ENTERPRISE', 'AMIT BHANDAR',\n",
       "       'SURANA GENERAL STORE', 'ASHIRBAD ENTERPRISE', 'TARA ENTERPRISE',\n",
       "       'RUCHITA TRADERS', 'ANJANA ENTERPRISE', 'FUTURE RETAIL LTD',\n",
       "       'SAYANTIKA ENTERPRISE', 'GUPTA STORE', 'RAJ ENTERPRISES',\n",
       "       'ALAKA AGENCIES', 'SHREYAM ENTERPRISE', 'RANJA ENTERPRISE',\n",
       "       'GOOD LUCK', 'ASHOK AGENCY', 'SATIMA BHANDAR', 'HOTA ENTERPRISERS',\n",
       "       'LOKENATH TRADERS', 'SITAA AGENCY', 'DWARIKA CHARAN SINHA',\n",
       "       'SHIRIDI SAI TRADERS', 'RIDDHI TRADERS', 'MAHABIR TRADING CO',\n",
       "       'RAMEN PRAMANIK', 'S K TRADING', 'ABHI ENTERPRISE',\n",
       "       'M/S SHIV GURU BHANDAR', 'SAI BALAJI AGENCIES', 'SHAW AGENCY',\n",
       "       'NAWAL PRASAD', 'PATNAIK ASSOCIATES', 'V K UDYOG LTD',\n",
       "       'KAUSHANI ENTERPRISE',\n",
       "       'BASUDEVPAUL & SADANANDAPAUL TRD LLP TRADING LLP',\n",
       "       'MADHUMITA SHOME', 'KANHAIYALAL AGARWALA', 'GOODWILL ENTERPRISE',\n",
       "       'SRI BALAJEE ENTERPRISES', 'BIPLAB PAL', 'JYOTI TRADERS',\n",
       "       'RAKESH AGARWALA', 'GANESH DISTRIBUTORS', 'DAS TRADERS ASSEMBLY',\n",
       "       'RATNA ENTERPRISE', 'PAWAN SUT BHANDAR', 'JAIN STORE',\n",
       "       'KAMAL BHANDAR', 'SHREE SHYAM TRADING COMPANY', 'BSF HAZARIBAGH',\n",
       "       'HARDIK ENTERPRISES', 'SRI KRISHNA AGENCY',\n",
       "       'URMISON FOOD PRODUCTS', 'SANMATI TRADING COMPANY',\n",
       "       'MAHADANI TRADERS', 'SHREE RAJ TRADELINK', 'S M S. RICE',\n",
       "       'RESHMI ENTERPRISE', 'MISHRA DISTRIBUTOR', 'SRI SHYAM AGENCIES',\n",
       "       'GOBINDO STORE', 'PAREEK TRADING COMPANY', 'EVEREST AGENCY HOUSE',\n",
       "       'A K TRADERS', 'ANUP AGARWALA', 'UNIQUE ENTERPRISES',\n",
       "       'MILA AGENCIES', 'MANISH ENTERPRISE', 'B P ENTERPRISE',\n",
       "       'BAID & SONS', 'N K AGENCY', 'MAHAMAYA TRADERS',\n",
       "       'CHAMPALAL BHANWAL', 'MAA ANNAPURNA TRADERS', 'KAR SEVA',\n",
       "       'MOMO CHICKEN CENTRE CUM VARIET', 'MAROTI BROTHERS',\n",
       "       'ICHHAPURAN TRADING CO', 'B P TRADING COMPANY',\n",
       "       'DINESH CHANDRA SAHA', 'HUKMICHAND CHANDANMAL BAGDA',\n",
       "       'HIMANSHU KUMAR DAS', 'SSB  ENTERPRISE', 'RAJESH SALT COMPANY',\n",
       "       'ADRIJA ENTERPRISE', 'DEY DISTRIBUTORS', 'GELEPHU GROCERY SHOP',\n",
       "       'ABHAYA TRADING CENTRE', 'KRISHNA AGENCY', 'RISHABH ROY',\n",
       "       'DAYA HARI AGRO FOOD PRODUCTS', 'J S TRADERS',\n",
       "       'RELIABLE ENTERPRISE', 'SANJAY PRASAD', 'SANJAY KIRANA STORE',\n",
       "       'DEY ENTERPRISE', 'PRAMOD AGENCY', 'RITA AGENCIES',\n",
       "       'SRIKANTA GHOSH', 'SOVA ENTERPRISE', 'ABHINAV SALES',\n",
       "       'JAGDAMBA TRADERS', 'EASTERN  AGENCY', 'SAHA BHANDAR',\n",
       "       'BASUDEB PAUL & SADANANDA PAUL', 'MALATI & SONS',\n",
       "       'PAWAN KUMAR AGARWALA', 'SRI GOURANGA ENTERPRISE',\n",
       "       'ARIHANT MARKETING', 'GANAPATI SALES', 'RAMBILASH SAHA',\n",
       "       'BROJESWARI ENTERPRISE', 'MINA TRADERS',\n",
       "       'MANGALAM TRADING ENTERPRISE', 'AROTI ENTERPRISE',\n",
       "       'VISHAL MEGA MART PVT LTD', 'A B ENTERPRISE',\n",
       "       'JAYASHREE ENTERPRISE', 'NATHMAL JUGAL KISHORE', 'DOLA CHANDA',\n",
       "       'CPC CENTRAL POLICE CANTEEN CISF', 'T DHAR & CO',\n",
       "       'GHOSH ENTERPRISE', 'REBEL FOODS PVT LTD', 'LAXMI BHANDAR',\n",
       "       'RADHESYAM RAJENDRA PRASAD', 'KAMAL OIL UDYOG', 'OSWAL TRADING CO',\n",
       "       'JAI HANUMAN DISTRUBUTORS', 'S D ENTERPRISE',\n",
       "       'CPC OFFICE OF THE COMMANDANT', 'ISHI ENTERPRISE',\n",
       "       'LAXMI NRUSINGHA GENERAL STORE', 'ASHA ENTERPRISE', 'DILIP KUMAR',\n",
       "       'JAI MAA DURGA BHANDAR', 'JAYASURYA ENTERPRISES',\n",
       "       'B M TRADERS  & SUPPLIERS', 'PRAKASH ENTERPRISES',\n",
       "       'PARASURAM TRADERS', 'MAA VASHANAVI ENTERPRISES',\n",
       "       'DALAL SUPPLY AGENCY', 'MAHANAM ENTERPRISE',\n",
       "       'SRI TEJSHAKTI FOOD INDUSTRIES', 'JAGANNATH AGENCY',\n",
       "       'PATRA ENTERPRISE', 'R K ENTERPRISE', 'GANPATI ENTERPRISES',\n",
       "       'SHIV SHAKTI DISTRIBUTORS', 'SADHUKHAN ENTERPRISE',\n",
       "       'PUZASHE LCHO & SONS', 'KANIKA GHOSH', 'UTKAL ENTERPRISES',\n",
       "       'MIHIR KUMAR DUTTA', 'HANUMAN TRADERS', 'ANIL STORE', 'GOPA DAS',\n",
       "       'JAGANNATH ENTERPRISE', 'DAS BROTHERS', 'G D GROCERY STORE',\n",
       "       'MA CHANDI MARKETING', 'MAHABIR TRADING', 'H YENITO AGENCIES',\n",
       "       'P D AGRAWAL & SONS', 'RANI ENTERPRISE', 'SHASHANK ENTERPRISES',\n",
       "       'RITESH TRADERS', 'SAHA BROTHERS', 'AMARCHAND ISWARDASS',\n",
       "       'SANTANU SINGHA', 'R.K AGENCY', 'AGARWAL AGENCIES',\n",
       "       'SINGHAL STORE', 'SAI KRISHNA AGENCIES', 'SAIKAT ENTERPRISE',\n",
       "       'BHAWANI ENTERPRISES', 'MINTU AGENCY', 'MANNU ENTERPRISES',\n",
       "       'S B ENTERPRISE', 'SAHA BROS AND CO', 'GOYAL AGENCY',\n",
       "       'SHYAM TRADERS', 'SANTOSH MAHAPA & SONS', 'PAWAN TRADERS',\n",
       "       'MAHAMAYA AGENCIES', 'SHREYA ENTERPRISE', 'SUBRATA MONDAL',\n",
       "       'OM SHRI MARKETING', 'A K ENTERPRISES', 'D & R ENTERPRISE',\n",
       "       'BISHAL STORE', 'SAHA SUPPLY AGENCY', 'DHARA AGENCY',\n",
       "       'LAKSHMI NARAYAN BHANDAR', 'SHRI GYAN VANIJYA',\n",
       "       'M/S VYAHUT ENTERPRISES', 'VIKAS KUMAR & BROTHERS', 'INDIA TECH',\n",
       "       'ALO ENTERPRISE', 'MANGAL MAYE MAA KALI BHANDAR',\n",
       "       'SHIB SHANKAR OIL MILL', 'KALPANA ENTERPRISE', 'KAMALA STORES',\n",
       "       'DEBABRATA DAS GROCERY DISTRIBU', 'BIKASH KUMAR',\n",
       "       'HARIKA & CO SALVAGE MART', 'ADYASHA ENTERPRISERS',\n",
       "       'SHREE HANUMANT ENTERPRISE', 'HARSH TRADING COMPANY',\n",
       "       'MAA TARA ENTERPRISES', 'LZ TRADERS', 'ASHOK AGENCIES',\n",
       "       'HANUMAN AGENCIES', 'SURAJ ENTERPRISE', 'S S ENTERPRISE',\n",
       "       'NATIONAL AGENCY', 'M/S- PUSPANJALI AGENCY', 'SHIBAM ENTERPRISE',\n",
       "       'AKHANDALMANI BHANDAR', 'OM BHANDAR', 'BANDANA ENTERPRISE',\n",
       "       'BRISTI ENTERPRISES', 'RINA ENTERPRISE',\n",
       "       'ARAMBAGH FOODMART PVT LTD', 'SAMBHUNATH DUTTA',\n",
       "       'MARUTI ASSOCIATES', 'CHOWDHURY OIL MILL', 'BURORAJ ENTERPRISE',\n",
       "       'SUBHKARAN MANGILAL', 'SUBASH ENTERPRISES', 'JAYASREE DUTTA',\n",
       "       'NILIMA ENTERPRISE', 'BILAS KUMAR DUTTA', 'DHAR ENTERPRISES',\n",
       "       'MAA TARA ENTERPRISE', 'JATANPRASAD LALCHANDPRASAD',\n",
       "       'SRI KRISHNA ENTERPRISE', 'AMULYA BHANDAR',\n",
       "       'PRAGYA MEDICINE CORNER', 'CHOWDHURY TRADERS', 'UTTAM ENTERPRISE',\n",
       "       'NILADRI TRADERS', 'DEEPAK AGENCIES', 'MANGAL AGENCIES',\n",
       "       'BHAGABAN TRADERS', 'SUBHAM AGARWAL', 'ARNAV AND SAHIL TRADING',\n",
       "       'SAHOO AGENCY', 'ARUP SAHA', 'NANDI ENTERPRISE', 'DEB ENTERPRISE',\n",
       "       'SREE GURU ENTERPRISE', 'D B AGENCY', 'SANCHAYITA AGENCY',\n",
       "       'JAYALAXMI AGENCIES', 'SATYAJIT GUPTA',\n",
       "       'MANIK CHANDRA DAS AND SONS', 'M L PAL & SONS',\n",
       "       'JAY JAGANNATH DISTRIBUTORS', 'TARINI AGENCY',\n",
       "       'DIPAK KUMAR KISHORE KUMAR', 'SWASTIK MARKETING AGENT',\n",
       "       'SINGHAL ENTERPRISE', 'RUBINA ENTERPRISE', 'SAMANTARA TRADERS',\n",
       "       'BYAGHRADEVI ENTERPRISES', 'UMRAOSINGH JAYNARAYAN',\n",
       "       'JYOSHNA SALES', 'J N COMMERCIAL HOUSE', 'S.A.ENTERPRISES',\n",
       "       'ROY INDUSTRY', 'SHRENIK DISTRIBUTOR', 'HALDER ENTERPRISE',\n",
       "       'ASHISH TELECOM', 'MATRI BHANDAR', 'DANIAL BARID BEVERAGE',\n",
       "       'PROSADHANI', 'A P TRADERS', 'ASHUTOSH', 'MAA LAKSHMI ENTERPRISE',\n",
       "       'JIN MATA MINI RICE MILL', 'SAHA ENTERPRISE', 'MAA LAXMI TRADERS',\n",
       "       'SHIVA STORE', 'NABALOKE', 'GAYATRI TRADERS',\n",
       "       'MAHABIR PRASAD GADIA', 'R D ENTERPRISES', 'BIJOY AGENCIES',\n",
       "       'SUMIT ENTERPRISES', 'M/S RAMNIWAS AGENCY', 'M/S TRIVENI STORE',\n",
       "       'BALARAM SAHA', 'KAUSHIK AGENCY', 'SGS ENTERPRISES',\n",
       "       'KALIMATA BHANDER', 'B S COMMERCIAL', 'PALSONS DERMA PVT LTD',\n",
       "       'CANTEEN OFFICER,CPC MASTER', 'LAXMIDHAR JENA', 'RAJ ENTERPRISE',\n",
       "       'RAHUL ENTERPRISE', 'MAA TARINI AGENCY', 'RIVU ENTERPRISE',\n",
       "       'RENUKA STORE', 'LALIT KUMAR THAKKAR', 'AARAV SALES',\n",
       "       'DEBANGI ENTERPRISES', 'HANDS ON TRADES PVT LTD',\n",
       "       'SHREE BAJRANG TRADING', 'G P GENERAL STORE', 'JEENAT AGENCY',\n",
       "       'PARBATI AGENCY', 'SUDARSHAN STORE', 'JIN MATA TRADERS',\n",
       "       'TARA MAA BHANDAR', 'P K STORES & GROCERY', 'TANISHA ENTERPRISES',\n",
       "       'N P SHAW', 'MASTER CANTEEN GC CRPF BBSR', 'UMA SHANKAR JHAWAR',\n",
       "       'A P AGENCY', 'ABHINAV TRADERS', 'BANKURA AGRO PROCESSING P LTD',\n",
       "       'MEERASHISH TRADING CO', 'ZENITH', 'MANOJ KUMAR BHAKAT',\n",
       "       'SHIFA ENTERPRISE', 'JAYSHREE STORES', 'GUPTA TRADE & AGENCY',\n",
       "       'SHREE SHYAMJEE', 'INDRAWATI BUSINESS SER PVT LTD', 'NEHA TRADING',\n",
       "       'BIKAURAM KAMLAPURI', 'G K ENTERPRISE', 'PRADIP ENTERPRISE',\n",
       "       'ARJUN BANIK', 'URBAN CASH AND CARRY', 'SURAJIT PAL',\n",
       "       'KALANIKETAN', 'SUPRIYA ENTERPRISES', 'JAI MATA DI TRADERS',\n",
       "       'DEEPAK AGARWAL', 'CHANDRABATI PAL', 'GOPAL CHANDRA PAUL',\n",
       "       'SNEHO ENTERPRISE', 'B K ENTERPRISE', 'S S AGENCY',\n",
       "       'G B ENTERPRISE', 'SOHANLAL RATANLAL', 'ROY ENTERPRISE',\n",
       "       '8 ELEVEN', 'KARMAKAR TRADERS', 'MILI ENTERPRISES',\n",
       "       'SUBHALAXMI AGENCY', 'GOBIND RAM BIRDHICHAND',\n",
       "       'N P TRADE & AGENCY', 'MAA PATAKHANDA AGENCY',\n",
       "       'SANANTA KUMAR KESHRI', 'KHAN ENTERPRISE', 'ANUPKUMAR AGARWALA',\n",
       "       'USHA VARIETY STORES', 'HAZRA ENTERPRISE', 'KUNDU ENTERPRISE',\n",
       "       'SARDA ENTERPRISES', 'SANJAY KUMAR DUTTA', 'DEEPAK  ENTERPRISES',\n",
       "       'SAHEB GROCERY', 'GHOSH VARIETIES', 'PAL AGENCY',\n",
       "       'SABITRI ENTERPRISERS', 'ANAND TRADERS', 'SUBUDHI BROTHERS',\n",
       "       'DAS ENTERPRISES', 'SHREE RAJ MEGA MART', 'PRIYANSHU ENTERPRISE',\n",
       "       'MAHADEV TRADING', 'MAA BANKESWARI ENTERPRISES',\n",
       "       'NEHA ENTERPRISES', 'KAMLA TRADING', 'SRI KRISHNA TRADERS',\n",
       "       'JOYRAM ENTEPRISE', 'SUSHAMA TRADERS', 'CPC SHQ BSF SHILLONG',\n",
       "       'MAHABIR TRADERS', 'JAI MAA KALI STORE', 'MANSA TRADING COMPANY',\n",
       "       'R S TRADING', 'SHIKHA ENTERPRISE', 'NIRAJ TRADERS', 'M T STORE',\n",
       "       'NILA ENTERPRISE', 'GHARSIRAM RAMKUMAR & CO', 'LOKENATH BHANDAR',\n",
       "       'SANKAR ENTERPRISE', 'MAA KALI DISTRIBUTORS',\n",
       "       'SUBHAJIT ENTERPRISE', 'MAHANTA & SONS', 'DARSHANA TRADERS',\n",
       "       'LOKENATH ENTERPRISE', 'JOGAJOG', 'MADANLAL GROUP',\n",
       "       'SEN ENTERPRISE', 'MINARVA AGENCY', 'ANISH MARKETING',\n",
       "       'SANDIP DAS', 'ANKIT CHAWALA', 'JOYRAM AGENCY',\n",
       "       'MAA ANNAPURNA BHANDER', 'HANUMAN STORE', 'HANUMAN BHANDAR',\n",
       "       'GAYATRI STORES', 'ROY & SONS CO AGENCY', 'NANU BANERJEE',\n",
       "       'GAZI ENTERPRISE', 'SHIV SHANKAR KIRANA STORE', 'PAUL & CO',\n",
       "       'YASH RAJ ENTERPRISES', 'ULTIMATE TRADERS', 'NANDA ENTERPRISE',\n",
       "       'JALAN ASSOCIATE', 'ANJANA ENTERPRISES', 'S R GHOSE',\n",
       "       'SUMIT KUMAR SAHA', 'CHANDRA SHEKHAR BISWAS', 'ESSENTIAL CHANNEL',\n",
       "       'SHAKTI TRADERS', 'RENUKA ENTERPRISE', 'KAPILMUNI ENTERPRISE',\n",
       "       'LASKAR ENTERPRISE', 'TARA MAA ENTERPRISE',\n",
       "       'TASHI COMMERCIAL CORPORATION', 'THANKUNGI DRUGS STORE',\n",
       "       'ANANDAMAYEE BHANDER', 'ANNAPURNA TRADING COMPANY',\n",
       "       'SUMAN KUMAR PAL', 'NEW JOYDURGA ENTERPRISE',\n",
       "       'MASTER CANTEEN CRPF GUWAHATI', 'SWAPNA  ENTERPRISE',\n",
       "       'SUBIR MODAK', 'K P TRADING COMPANY', 'GSA RETAIL LTD',\n",
       "       'SHRITAMA ENTERPRISE', 'NEW TARA MAA OIL MILL', 'SAYAN ENTERPRISE',\n",
       "       'PAUL AND SONS', 'DULAL KUMAR PAL', 'ANANYA ENTERPRISE',\n",
       "       'JAYANTA SAHA', 'RIDHISIDHI DISTRIBUTOR', 'BABA LOKENATH STORES',\n",
       "       'MANI TRADING', 'MAHESH BHANDAR', 'GOBINDA BHANDAR',\n",
       "       'CHOWDHURY ENTERPRISE', 'SUBONG MEDICAL', 'LAXMI STORE',\n",
       "       'M/S SREE KSHETRA', 'MA SOVA ENTERPRISE', 'BANI ENTERPRISE',\n",
       "       'SANJIB HALDER', 'ASSAM RLWY EMP CO-OP ASSCIATION LTD',\n",
       "       'PUREL ENTERPRISE', 'CPC FRONTIER HQRS SSB GUWAHATI',\n",
       "       'P K U ASSOCIATES', 'PARISHEBA', 'PRAFULLA TRADERS',\n",
       "       'SHUBHAM AGENCY', 'SARADA TRADERS', 'SREE ADITYA TRADERS',\n",
       "       'DEB ENTERPRISES', 'SANTOSHI BHANDER', 'SURAJ ENTERPRISES',\n",
       "       'RAMESWAR AGENCY', 'PAUL AGENCY', 'DAMODAR ENTERPRISE',\n",
       "       'RAS ENTERPRISE', 'BASUDEO SINGH BINDHYESHWAR SINGH',\n",
       "       'DURGA AGENCY', 'S R TRADING', 'U B ENTERPRISE', 'SK MANI AGENCY',\n",
       "       'GUDDU TRADING CO', 'SURASHREE', 'BABA AGENCY', 'ANITA ENTERPRISE',\n",
       "       'SD ENTERPRISE', 'STARLIGHT TRADERS', 'MUKHERJEE ENTERPRISE',\n",
       "       'JOY RAM AGANCY', 'AYUSH PRODUCTS', 'RADHA AGENCY', 'SIBANI SALES',\n",
       "       'PINAK DISTRIBUTORS', 'MD MURSALIM HOSSAIN', 'SEVA MARKETING',\n",
       "       'GOUTAM KUMAR SAHA', 'SOVA TEA HOUSE', 'SUMIT AGENCY',\n",
       "       'MAA TARA AGENCY', 'ASHOKA AGENCY', 'IG STC BSF HAZARIBAGH',\n",
       "       'CISF UNIT BCCL', 'HUSSAIN STORE', 'RANI SATI AGENCY',\n",
       "       'SHANKAR BHANDAR', 'ANJAN PAUL STORES', 'DUI BHAI AGENCY',\n",
       "       'MONOROMA ENTERPRISE', 'SRI GANESH BHANDAR', 'SRI GANESH STORE',\n",
       "       'BANSIDHAR AGARWALLA', 'SOURAV ENTERPRISE', 'MIMI STORES',\n",
       "       'MAGADH STORE', 'LAXMI NARAYAN STORE', 'KHETULAL MAHABIR PRASAD',\n",
       "       'DAS ENTERPRISE', 'KRISHNA STORES', 'RAJENDRA FOOD PRODUCT',\n",
       "       'KALINGA ENTERPRISES', 'MASTER PRAHARI CANTEEN SHQ BSF',\n",
       "       'SHREE HARI ENTERPRISE', 'ARDH SAINIK CANTEEN', 'GOBINDA BHANDER',\n",
       "       'HARIPRIYA AGENCY', 'INDIGO CATERING & SERVIES PVT LTD',\n",
       "       'MASTER PRAHARI CANTEEN BSF', 'MASTER CANTEEN GC CRPF LANGJIN',\n",
       "       'SHIV AGENCY', 'SHANKAR TRADERS', 'D K MARKETING', 'ABHIJIT GHOSH',\n",
       "       'BALAJI CONSTRUCTION COMPANY', 'RAAJSONS', 'D M STORE',\n",
       "       'MAA LAXMI ENTERPRISES', 'RATHI ENTERPRISES', 'PAWAN TRADING',\n",
       "       'H M ENTERPRISES', 'SHRI KRISHNA STORES', 'PUNAM CHAND LAKHOTIA',\n",
       "       'BIMAN CHANDRA RUDRA', 'ALLIED TRADE & AGENCY',\n",
       "       'BISWAJIT CONSTRUCTION', 'HARI OM KIRANA & STATIONARY',\n",
       "       'M/S RAIJI ENTERPRISE', 'S G UDYOG PVT LTD', 'DRONE ENTERPRISE',\n",
       "       'CENTRAL POLICE CANTEEN-DHRUWA', 'JAGADISH TRADING',\n",
       "       'ANJALI ENTERPRISE', 'FABCONS INFRATECH', 'MPB TRADER',\n",
       "       'AMBIKA ENTERPRISES', 'MAA SUSHILA TRADERS', 'SWETA TRADERS',\n",
       "       'AMARABATI CRPF CAMPUS', 'K TRADERS', 'KAR ENTERPRISE',\n",
       "       'N P ENTERPRISE', 'PAUL & SONS', 'PURNA BHANDER & RENUKA DISTRI.',\n",
       "       'R K OIL & FOOD PRODUCTS', 'S K AGENCY', 'SHIV SAKTI TRADERS',\n",
       "       'SAI RAM ENTERPRISES', 'NEW LANKA TRADER', 'PAUL EMPORIUM',\n",
       "       'KIRAN ENTERPRISES', 'CRPF GROUP CENTRE CRPF',\n",
       "       'CPC CISF UNIT R.S.P. ROURKELA', 'MASTER CANTEEN DIG BSF',\n",
       "       'IG BSF FTR HQ GUWAHATI RATION', 'GORAI & SONS', 'J ENTERPRISE',\n",
       "       'BHUTHAN HEALTH OIL', 'JOY MAA KALI STORES',\n",
       "       'KRISHNA VERITY STORE', 'PRAKASH STORE', 'DEY STORES',\n",
       "       'MASTER CANTEEN BSF FTR NB', 'ROY WATCH GIFTS & TELECOM',\n",
       "       'KIM KIM AGENCY', 'BANSAL SALES CORPORATION',\n",
       "       'COMMANDANT 34 BN BSF RATION FUND', 'COMDT 51 BN BSF RATION FUND',\n",
       "       'RAILWAY CO-OPERATIVE SOCITEY', 'ANAND KUMAR LAKHOTIA',\n",
       "       'JAI MATADI TRADING', 'FTR  HQRS SSB SILIGURI',\n",
       "       'ARDHA SAINIK CANTEEN', 'JAY AMBEY TRADERS', 'M/S KABRA STORE',\n",
       "       'MASTER CANTEEN CENTRAL POLICE', 'ANIMA PODDER & SONS',\n",
       "       'MALDA PRAHARI CANTEEN', 'SHREE VISHNU BHANDAR', 'SRIMANTA BAG',\n",
       "       'SHQ BSF MALDA', 'COMMANDANT - 1ST NDRF', 'PRAKASH FOODS',\n",
       "       'SHQ BSF BEHRAMPUR', 'BASUMATARY STORES',\n",
       "       'CHHABIL CHAND SUSHILKUMAR', 'SRI KRISHNA BHANDAR', 'R J TRADERS',\n",
       "       'THIRANI ENTERPRISE', 'SHIV TRADING CO', 'RATION FUND 85 BN BSF'],\n",
       "      dtype=object)"
      ]
     },
     "execution_count": 99,
     "metadata": {},
     "output_type": "execute_result"
    }
   ],
   "source": [
    "customer['Distributor'].unique()"
   ]
  },
  {
   "cell_type": "code",
   "execution_count": 100,
   "id": "667f9133",
   "metadata": {},
   "outputs": [
    {
     "data": {
      "text/plain": [
       "array(['FBR08A30416B10', 'FBR04A20102B10', 'FBR08A10416B10',\n",
       "       'FBR04A10102B10', 'FATTA5091B10N2E', 'FBR07HR0101B10',\n",
       "       'FNUGG4062B11', 'FATTA5091B09N2E', 'FATTA5091P07V1N2E',\n",
       "       'FNR02HR0422B10', 'FBR01TI0416B10', 'FBR01HR0608P04V1',\n",
       "       'FPULS8133B15', 'FPULS7143B13', 'FNR01HR0435B10',\n",
       "       'FATTA5093B12N2E', 'FATTA5094B09CUP', 'FBESA1024B10',\n",
       "       'FPULS8143B15', 'FNR03HR0439B10', 'FBESA1013B10', 'FBESA2013B12',\n",
       "       'FBESA1013B15', 'NSOAPC01W010101B', 'FBESA1013B14OR',\n",
       "       'FBESA1013B14', 'FPULS8123B15', 'FPULS13123B15', 'FBR01HR0106B10',\n",
       "       'FNR03HR0438B10', 'FNR04HR0141B08', 'FBR04DU0102B10',\n",
       "       'FATTA5093B12CUP', 'FBR01HR0416B10', 'FNUGG3062P07',\n",
       "       'FBR01HR0108B10', 'FBESA1011B10', 'FBR01HR0433B10', 'FBESA1014B10',\n",
       "       'FATTA5091P09CUP', 'FATTA5093B15N2E', 'FBR07HR0101B08',\n",
       "       'FBR01HR0101P04', 'FBR01HR0608B10', 'FATTA5091B09N2ES1',\n",
       "       'FBR04TI0102B10', 'FBESA1023B10', 'FBESA1021P07',\n",
       "       'FATTA5094B10CUP', 'FNUGG3061P07S1', 'FBR04HR0110B10',\n",
       "       'FATTA5094B15CUP', 'FBR01HR0103B10', 'FBESA1023B14Y',\n",
       "       'NSOAPC01W010201B', 'ERRBO01J07', 'FNR03HR0440B10', 'ERRBO01P03V1',\n",
       "       'ERRBO01P03S4', 'ERRBO01P03S1', 'ERRBO01P03', 'FNR01HR0426B04',\n",
       "       'FBESA2013B10', 'FBESA2023B12', 'FBR01HR0101B08', 'FBR04TI0430B10',\n",
       "       'FNUGG3061P07', 'FBESA1021P06', 'FBR04TI0430B08', 'FBR04TI0102B08',\n",
       "       'FBR01HR0438B10N53', 'FATTA5094B12CUP', 'FATTA5093B15CUP',\n",
       "       'FBR01MO0102B08', 'FBR07MO0102B08', 'FBESA2023B10',\n",
       "       'FBR07MO0102B08V1', 'FBR01DU0102P07V2', 'FBR01MO0102B07',\n",
       "       'EBLEN03J07S1', 'FBR08A20416B10', 'FBR01DU0102P04V2',\n",
       "       'FBESA1023B14', 'FBR01HR0102P04', 'FBR01HR0608P04',\n",
       "       'FBR01HR0131B10', 'FBR01MO0102B08V1', 'FBR01HR0107B10',\n",
       "       'FBR01HR0103B10V2', 'ERRBO01E03', 'FBR01HR0110P04S3',\n",
       "       'FBESA2011P06', 'FBR02A20102B08', 'FBR01HR0102B07', 'ERRBO01J07V1',\n",
       "       'FBR04HR0601B08', 'FBR01TI0116B10', 'ERRBO01J07S2', 'ERRBO01J07V2',\n",
       "       'FBR04HR0101B08', 'FBR04HR0102B10', 'FPULS7123B13',\n",
       "       'FBR01HR0402B10', 'FBR01BL0432B10', 'FBR03HR0101B08',\n",
       "       'FNUGG3062B09', 'FNR03HR0435B10', 'FBR01HR0433B10V1',\n",
       "       'FBR01HR0430P04', 'FBESA1054B10', 'FBR01DU0102P04',\n",
       "       'FBR01HR0601B08', 'FBR04HR0433B10', 'FBR01HR0108P07',\n",
       "       'FNUGG3071P01', 'FBR01DU0102P07V1', 'FBR04BL0432B10',\n",
       "       'FBR01HR0102P07', 'FBESA1021P04', 'FNUGG3061P01S1', 'EBLEN03J07',\n",
       "       'FBR02A10102B08', 'FBESA2011P07', 'FMAID10201P06',\n",
       "       'FBR04TI0102P07', 'FBR01HR0108B07', 'FBR04HR0102B08',\n",
       "       'FSUJI11221P06', 'FBR08HR0121P04', 'FNUGG3061P04S1',\n",
       "       'FNUGG3061P04S2', 'FBR01MM0102B07', 'ERRBO01J08S1', 'FBESA2011P04',\n",
       "       'EBLEN03P03V2', 'ERGNO01J08', 'FBESA1053B10', 'FBR01DU0102B10',\n",
       "       'FBR01HR0201B10V1', 'FBR06HR0104P04', 'FATTA5091P07V2N2E',\n",
       "       'FBR01HR0101P07', 'FNUGG3071P04', 'FNUGG3061P02', 'FBR08HR0121P07',\n",
       "       'FPULS9141P07', 'FBR01HR0108P04V1', 'FBR01HR0108P04',\n",
       "       'FBESA1021B10', 'FBR01HR0110B10', 'FPULS7141P06', 'FBR03HR0401B10',\n",
       "       'FBR01HR0430P07', 'FBR01DU0116B10', 'ERRBO01J07V2S1', 'ERRBO01J05',\n",
       "       'FNUGG3061P03S1', 'FPULS7121P07', 'FBR01BL0115P04', 'FNUGG3062P04',\n",
       "       'FNUGG3062P01S1', 'FPULS9121P07', 'FNUGG3081P04',\n",
       "       'FBR02HR0110P04V1', 'FPULS7121P06', 'FPULS7141P07',\n",
       "       'FBR04HR0101B10', 'ERRBO01J07V3S1', 'EBLEN75E03', 'EBLEN75P03',\n",
       "       'EBLEN03J03', 'FBR01M20102B07', 'FBR01HR0106P04',\n",
       "       'FBR01HR0110P07S2', 'FNR02HR0137P02V1', 'FBR02DU0111P04',\n",
       "       'FBR01HR0101P04V1', 'ERRBO01P01', 'FBR01HR0440B10N53',\n",
       "       'FBR01HR0102P04V1', 'FNUGG3061P04', 'FBR02DU0110P04',\n",
       "       'FBR01DU0102P04V1', 'FBR02DU0110P07', 'FBR02HR0111P04',\n",
       "       'FBR01BL0115P07', 'FBR02A30109P02', 'EBLEN03P03S2',\n",
       "       'FBR02HR0110P04', 'FNR02HR0137P02', 'FBR01HR0110P07', 'EBLEN75J07',\n",
       "       'FBR01HR0102B07S1', 'ERRBO01P03V1S1', 'FBR02DU0111P07',\n",
       "       'FBR01HR0110P04S1', 'FBR01BL0109P04', 'FBR01HR0101P04S1',\n",
       "       'FNUGG3061P01', 'EBLEN03P03V1', 'ERRBO01P03S3'], dtype=object)"
      ]
     },
     "execution_count": 100,
     "metadata": {},
     "output_type": "execute_result"
    }
   ],
   "source": [
    "customer['Material Code'].unique()"
   ]
  },
  {
   "cell_type": "code",
   "execution_count": 101,
   "id": "02fbeb45",
   "metadata": {},
   "outputs": [
    {
     "data": {
      "text/plain": [
       "array(['BASMATI RICE', 'CHAKKI ATTA', 'NON-GMO SOYA NUGGETS',\n",
       "       'NON BASMATI', 'MATAR', 'MASOOR', 'CHANA BESAN', 'MATAR BESAN',\n",
       "       'SOAP CAKE', 'CHANA', 'REGULAR SOYA NUGGETS', 'RICE BRAN', 'BLEND',\n",
       "       'MAIDA', 'SUJI', 'GROUND NUT', 'ARHAR', 'KHICHADI'], dtype=object)"
      ]
     },
     "execution_count": 101,
     "metadata": {},
     "output_type": "execute_result"
    }
   ],
   "source": [
    "customer['Product Type'].unique()"
   ]
  },
  {
   "cell_type": "code",
   "execution_count": 102,
   "id": "e63ce538",
   "metadata": {},
   "outputs": [
    {
     "data": {
      "text/plain": [
       "array(['BP', 'CP'], dtype=object)"
      ]
     },
     "execution_count": 102,
     "metadata": {},
     "output_type": "execute_result"
    }
   ],
   "source": [
    "customer['Pack Classification'].unique()"
   ]
  },
  {
   "cell_type": "code",
   "execution_count": 103,
   "id": "48c8fdf2",
   "metadata": {},
   "outputs": [
    {
     "data": {
      "text/plain": [
       "array(['25 KG', '10 KG', '20 KG', '5 KG', '1 KG', '50 KG', '30 KG',\n",
       "       '75 GM', '35 KG', '5 LTR', '1 LTR', '500 GM', '50 GM', '200 GM',\n",
       "       '15 LTR', '90 GM', '2 LTR', '100 GM', '200 ML'], dtype=object)"
      ]
     },
     "execution_count": 103,
     "metadata": {},
     "output_type": "execute_result"
    }
   ],
   "source": [
    "customer['Pack Size'].unique()"
   ]
  },
  {
   "cell_type": "code",
   "execution_count": 104,
   "id": "b2e438f1",
   "metadata": {},
   "outputs": [
    {
     "data": {
      "text/plain": [
       "array(['BAG', 'POUCH', 'PAPER WRAP', 'JAR', 'PET'], dtype=object)"
      ]
     },
     "execution_count": 104,
     "metadata": {},
     "output_type": "execute_result"
    }
   ],
   "source": [
    "customer['Pack Type'].unique()"
   ]
  },
  {
   "cell_type": "code",
   "execution_count": 105,
   "id": "5d6eeded",
   "metadata": {},
   "outputs": [
    {
     "data": {
      "text/plain": [
       "FATTA5091P07V1N2E    6351\n",
       "FATTA5091B09N2E      6153\n",
       "FNUGG3061P04S1       4883\n",
       "FNUGG3061P01S1       4605\n",
       "ERRBO01P03V1         4595\n",
       "                     ... \n",
       "EBLEN75P03              1\n",
       "FBR04HR0101B10          1\n",
       "FBR02A10102B08          1\n",
       "ERRBO01J08S1            1\n",
       "FBR01MO0102B08V1        1\n",
       "Name: Material Code, Length: 201, dtype: int64"
      ]
     },
     "execution_count": 105,
     "metadata": {},
     "output_type": "execute_result"
    }
   ],
   "source": [
    "customer['Material Code'].value_counts()"
   ]
  },
  {
   "cell_type": "code",
   "execution_count": 106,
   "id": "12c26c16",
   "metadata": {},
   "outputs": [
    {
     "data": {
      "text/plain": [
       "2117491    1352\n",
       "2122193    1159\n",
       "2116824     746\n",
       "2117013     718\n",
       "2124650     707\n",
       "           ... \n",
       "2123908       1\n",
       "2124629       1\n",
       "2112672       1\n",
       "2118702       1\n",
       "2125083       1\n",
       "Name: Customer Code, Length: 894, dtype: int64"
      ]
     },
     "execution_count": 106,
     "metadata": {},
     "output_type": "execute_result"
    }
   ],
   "source": [
    "customer['Customer Code'].value_counts()"
   ]
  },
  {
   "cell_type": "code",
   "execution_count": 107,
   "id": "c9425884",
   "metadata": {},
   "outputs": [
    {
     "name": "stdout",
     "output_type": "stream",
     "text": [
      "Minimum values:\n",
      " Sales Zone                            EAST\n",
      "Billing Date           2019-04-03 00:00:00\n",
      "Customer Code                      2110342\n",
      "Distributor                       8 ELEVEN\n",
      "Material Code                   EBLEN03J03\n",
      "Product Type                         ARHAR\n",
      "Pack Classification                     BP\n",
      "Pack Type                              BAG\n",
      "Pack Size                             1 KG\n",
      "YTD Vol (MT)                         -12.0\n",
      "dtype: object\n",
      "\n",
      "Maximum values:\n",
      " Sales Zone                            EAST\n",
      "Billing Date           2020-03-31 00:00:00\n",
      "Customer Code                      2128682\n",
      "Distributor                         ZENITH\n",
      "Material Code             NSOAPC01W010201B\n",
      "Product Type                          SUJI\n",
      "Pack Classification                     CP\n",
      "Pack Type                            POUCH\n",
      "Pack Size                            90 GM\n",
      "YTD Vol (MT)                        157.35\n",
      "dtype: object\n",
      "\n",
      "Standard deviation values:\n",
      " Billing Date     104 days 07:35:53.723198482\n",
      "Customer Code                    4864.312124\n",
      "YTD Vol (MT)                        2.174308\n",
      "dtype: object\n",
      "\n",
      "Mean values:\n",
      " Customer Code    2.115771e+06\n",
      "YTD Vol (MT)     6.133559e-01\n",
      "dtype: float64\n"
     ]
    }
   ],
   "source": [
    "# Apply min, max, std, mean functions on all numeric columns\n",
    "min_values = customer.min()\n",
    "max_values = customer.max()\n",
    "std_values = customer.std()\n",
    "mean_values = customer.mean()\n",
    "\n",
    "# Print the results\n",
    "print(\"Minimum values:\\n\", min_values)\n",
    "print(\"\\nMaximum values:\\n\", max_values)\n",
    "print(\"\\nStandard deviation values:\\n\", std_values)\n",
    "print(\"\\nMean values:\\n\", mean_values)"
   ]
  },
  {
   "cell_type": "markdown",
   "id": "543cf116",
   "metadata": {},
   "source": [
    "# Conversion"
   ]
  },
  {
   "cell_type": "code",
   "execution_count": 147,
   "id": "2073c683",
   "metadata": {},
   "outputs": [],
   "source": [
    "customer = pd.get_dummies(customer, columns=['Sales Zone'], prefix='Sales_Zone')"
   ]
  },
  {
   "cell_type": "code",
   "execution_count": 148,
   "id": "703d1bf5",
   "metadata": {},
   "outputs": [
    {
     "data": {
      "text/html": [
       "<div>\n",
       "<style scoped>\n",
       "    .dataframe tbody tr th:only-of-type {\n",
       "        vertical-align: middle;\n",
       "    }\n",
       "\n",
       "    .dataframe tbody tr th {\n",
       "        vertical-align: top;\n",
       "    }\n",
       "\n",
       "    .dataframe thead th {\n",
       "        text-align: right;\n",
       "    }\n",
       "</style>\n",
       "<table border=\"1\" class=\"dataframe\">\n",
       "  <thead>\n",
       "    <tr style=\"text-align: right;\">\n",
       "      <th></th>\n",
       "      <th>Billing Date</th>\n",
       "      <th>Customer Code</th>\n",
       "      <th>Distributor</th>\n",
       "      <th>Material Code</th>\n",
       "      <th>Product Type</th>\n",
       "      <th>Pack Classification</th>\n",
       "      <th>Pack Type</th>\n",
       "      <th>Pack Size</th>\n",
       "      <th>YTD Vol (MT)</th>\n",
       "      <th>Sales_Zone_EAST</th>\n",
       "    </tr>\n",
       "  </thead>\n",
       "  <tbody>\n",
       "    <tr>\n",
       "      <th>0</th>\n",
       "      <td>2019-08-02</td>\n",
       "      <td>2111797</td>\n",
       "      <td>UNIVERSAL TRADE &amp; AGENCY</td>\n",
       "      <td>FBR08A30416B10</td>\n",
       "      <td>BASMATI RICE</td>\n",
       "      <td>BP</td>\n",
       "      <td>BAG</td>\n",
       "      <td>25 KG</td>\n",
       "      <td>157.35</td>\n",
       "      <td>1</td>\n",
       "    </tr>\n",
       "    <tr>\n",
       "      <th>1</th>\n",
       "      <td>2019-09-10</td>\n",
       "      <td>2111797</td>\n",
       "      <td>UNIVERSAL TRADE &amp; AGENCY</td>\n",
       "      <td>FBR04A20102B10</td>\n",
       "      <td>BASMATI RICE</td>\n",
       "      <td>BP</td>\n",
       "      <td>BAG</td>\n",
       "      <td>25 KG</td>\n",
       "      <td>128.00</td>\n",
       "      <td>1</td>\n",
       "    </tr>\n",
       "    <tr>\n",
       "      <th>2</th>\n",
       "      <td>2019-08-12</td>\n",
       "      <td>2111797</td>\n",
       "      <td>UNIVERSAL TRADE &amp; AGENCY</td>\n",
       "      <td>FBR08A30416B10</td>\n",
       "      <td>BASMATI RICE</td>\n",
       "      <td>BP</td>\n",
       "      <td>BAG</td>\n",
       "      <td>25 KG</td>\n",
       "      <td>67.00</td>\n",
       "      <td>1</td>\n",
       "    </tr>\n",
       "  </tbody>\n",
       "</table>\n",
       "</div>"
      ],
      "text/plain": [
       "  Billing Date  Customer Code               Distributor   Material Code  \\\n",
       "0   2019-08-02        2111797  UNIVERSAL TRADE & AGENCY  FBR08A30416B10   \n",
       "1   2019-09-10        2111797  UNIVERSAL TRADE & AGENCY  FBR04A20102B10   \n",
       "2   2019-08-12        2111797  UNIVERSAL TRADE & AGENCY  FBR08A30416B10   \n",
       "\n",
       "   Product Type Pack Classification Pack Type Pack Size  YTD Vol (MT)  \\\n",
       "0  BASMATI RICE                  BP       BAG     25 KG        157.35   \n",
       "1  BASMATI RICE                  BP       BAG     25 KG        128.00   \n",
       "2  BASMATI RICE                  BP       BAG     25 KG         67.00   \n",
       "\n",
       "   Sales_Zone_EAST  \n",
       "0                1  \n",
       "1                1  \n",
       "2                1  "
      ]
     },
     "execution_count": 148,
     "metadata": {},
     "output_type": "execute_result"
    }
   ],
   "source": [
    "customer.head(3)"
   ]
  },
  {
   "cell_type": "code",
   "execution_count": 149,
   "id": "bb5d8f4c",
   "metadata": {},
   "outputs": [
    {
     "name": "stdout",
     "output_type": "stream",
     "text": [
      "float64\n"
     ]
    }
   ],
   "source": [
    "print(customer['YTD Vol (MT)'].dtype)"
   ]
  },
  {
   "cell_type": "code",
   "execution_count": 150,
   "id": "4239b6f4",
   "metadata": {},
   "outputs": [
    {
     "name": "stdout",
     "output_type": "stream",
     "text": [
      "uint8\n"
     ]
    }
   ],
   "source": [
    "print(customer['Sales_Zone_EAST'].dtype)"
   ]
  },
  {
   "cell_type": "code",
   "execution_count": 151,
   "id": "c591f341",
   "metadata": {},
   "outputs": [
    {
     "name": "stdout",
     "output_type": "stream",
     "text": [
      "object\n"
     ]
    }
   ],
   "source": [
    "print(customer['Pack Size'].dtype)"
   ]
  },
  {
   "cell_type": "code",
   "execution_count": 152,
   "id": "8d2a01c5",
   "metadata": {},
   "outputs": [],
   "source": [
    "customer = pd.get_dummies(customer, columns=['Pack Classification'], prefix='Pack Classification')"
   ]
  },
  {
   "cell_type": "code",
   "execution_count": 153,
   "id": "d393a901",
   "metadata": {},
   "outputs": [
    {
     "data": {
      "text/html": [
       "<div>\n",
       "<style scoped>\n",
       "    .dataframe tbody tr th:only-of-type {\n",
       "        vertical-align: middle;\n",
       "    }\n",
       "\n",
       "    .dataframe tbody tr th {\n",
       "        vertical-align: top;\n",
       "    }\n",
       "\n",
       "    .dataframe thead th {\n",
       "        text-align: right;\n",
       "    }\n",
       "</style>\n",
       "<table border=\"1\" class=\"dataframe\">\n",
       "  <thead>\n",
       "    <tr style=\"text-align: right;\">\n",
       "      <th></th>\n",
       "      <th>Billing Date</th>\n",
       "      <th>Customer Code</th>\n",
       "      <th>Distributor</th>\n",
       "      <th>Material Code</th>\n",
       "      <th>Product Type</th>\n",
       "      <th>Pack Type</th>\n",
       "      <th>Pack Size</th>\n",
       "      <th>YTD Vol (MT)</th>\n",
       "      <th>Sales_Zone_EAST</th>\n",
       "      <th>Pack Classification_BP</th>\n",
       "      <th>Pack Classification_CP</th>\n",
       "    </tr>\n",
       "  </thead>\n",
       "  <tbody>\n",
       "    <tr>\n",
       "      <th>0</th>\n",
       "      <td>2019-08-02</td>\n",
       "      <td>2111797</td>\n",
       "      <td>UNIVERSAL TRADE &amp; AGENCY</td>\n",
       "      <td>FBR08A30416B10</td>\n",
       "      <td>BASMATI RICE</td>\n",
       "      <td>BAG</td>\n",
       "      <td>25 KG</td>\n",
       "      <td>157.35</td>\n",
       "      <td>1</td>\n",
       "      <td>1</td>\n",
       "      <td>0</td>\n",
       "    </tr>\n",
       "    <tr>\n",
       "      <th>1</th>\n",
       "      <td>2019-09-10</td>\n",
       "      <td>2111797</td>\n",
       "      <td>UNIVERSAL TRADE &amp; AGENCY</td>\n",
       "      <td>FBR04A20102B10</td>\n",
       "      <td>BASMATI RICE</td>\n",
       "      <td>BAG</td>\n",
       "      <td>25 KG</td>\n",
       "      <td>128.00</td>\n",
       "      <td>1</td>\n",
       "      <td>1</td>\n",
       "      <td>0</td>\n",
       "    </tr>\n",
       "    <tr>\n",
       "      <th>2</th>\n",
       "      <td>2019-08-12</td>\n",
       "      <td>2111797</td>\n",
       "      <td>UNIVERSAL TRADE &amp; AGENCY</td>\n",
       "      <td>FBR08A30416B10</td>\n",
       "      <td>BASMATI RICE</td>\n",
       "      <td>BAG</td>\n",
       "      <td>25 KG</td>\n",
       "      <td>67.00</td>\n",
       "      <td>1</td>\n",
       "      <td>1</td>\n",
       "      <td>0</td>\n",
       "    </tr>\n",
       "  </tbody>\n",
       "</table>\n",
       "</div>"
      ],
      "text/plain": [
       "  Billing Date  Customer Code               Distributor   Material Code  \\\n",
       "0   2019-08-02        2111797  UNIVERSAL TRADE & AGENCY  FBR08A30416B10   \n",
       "1   2019-09-10        2111797  UNIVERSAL TRADE & AGENCY  FBR04A20102B10   \n",
       "2   2019-08-12        2111797  UNIVERSAL TRADE & AGENCY  FBR08A30416B10   \n",
       "\n",
       "   Product Type Pack Type Pack Size  YTD Vol (MT)  Sales_Zone_EAST  \\\n",
       "0  BASMATI RICE       BAG     25 KG        157.35                1   \n",
       "1  BASMATI RICE       BAG     25 KG        128.00                1   \n",
       "2  BASMATI RICE       BAG     25 KG         67.00                1   \n",
       "\n",
       "   Pack Classification_BP  Pack Classification_CP  \n",
       "0                       1                       0  \n",
       "1                       1                       0  \n",
       "2                       1                       0  "
      ]
     },
     "execution_count": 153,
     "metadata": {},
     "output_type": "execute_result"
    }
   ],
   "source": [
    "customer.head(3)"
   ]
  },
  {
   "cell_type": "code",
   "execution_count": 154,
   "id": "5a21c5e1",
   "metadata": {},
   "outputs": [],
   "source": [
    "conversion_factors = {\n",
    "    'KG': 1000,\n",
    "    'GM': 1,\n",
    "    'LTR': 1000,\n",
    "    'ML': 1\n",
    "}\n"
   ]
  },
  {
   "cell_type": "code",
   "execution_count": 155,
   "id": "217233d8",
   "metadata": {},
   "outputs": [],
   "source": [
    "def convert_to_grams(pack_size):\n",
    "    global conversion_factors\n",
    "    size, unit = pack_size.split()\n",
    "    size = float(size)\n",
    "    factor = conversion_factors[unit]\n",
    "    return size * factor\n"
   ]
  },
  {
   "cell_type": "code",
   "execution_count": 156,
   "id": "0abf94e3",
   "metadata": {},
   "outputs": [],
   "source": [
    "customer['Pack Size (g)'] = customer['Pack Size'].apply(convert_to_grams)"
   ]
  },
  {
   "cell_type": "code",
   "execution_count": 157,
   "id": "724e278b",
   "metadata": {},
   "outputs": [
    {
     "data": {
      "text/html": [
       "<div>\n",
       "<style scoped>\n",
       "    .dataframe tbody tr th:only-of-type {\n",
       "        vertical-align: middle;\n",
       "    }\n",
       "\n",
       "    .dataframe tbody tr th {\n",
       "        vertical-align: top;\n",
       "    }\n",
       "\n",
       "    .dataframe thead th {\n",
       "        text-align: right;\n",
       "    }\n",
       "</style>\n",
       "<table border=\"1\" class=\"dataframe\">\n",
       "  <thead>\n",
       "    <tr style=\"text-align: right;\">\n",
       "      <th></th>\n",
       "      <th>Billing Date</th>\n",
       "      <th>Customer Code</th>\n",
       "      <th>Distributor</th>\n",
       "      <th>Material Code</th>\n",
       "      <th>Product Type</th>\n",
       "      <th>Pack Type</th>\n",
       "      <th>Pack Size</th>\n",
       "      <th>YTD Vol (MT)</th>\n",
       "      <th>Sales_Zone_EAST</th>\n",
       "      <th>Pack Classification_BP</th>\n",
       "      <th>Pack Classification_CP</th>\n",
       "      <th>Pack Size (g)</th>\n",
       "    </tr>\n",
       "  </thead>\n",
       "  <tbody>\n",
       "    <tr>\n",
       "      <th>0</th>\n",
       "      <td>2019-08-02</td>\n",
       "      <td>2111797</td>\n",
       "      <td>UNIVERSAL TRADE &amp; AGENCY</td>\n",
       "      <td>FBR08A30416B10</td>\n",
       "      <td>BASMATI RICE</td>\n",
       "      <td>BAG</td>\n",
       "      <td>25 KG</td>\n",
       "      <td>157.35</td>\n",
       "      <td>1</td>\n",
       "      <td>1</td>\n",
       "      <td>0</td>\n",
       "      <td>25000.0</td>\n",
       "    </tr>\n",
       "    <tr>\n",
       "      <th>1</th>\n",
       "      <td>2019-09-10</td>\n",
       "      <td>2111797</td>\n",
       "      <td>UNIVERSAL TRADE &amp; AGENCY</td>\n",
       "      <td>FBR04A20102B10</td>\n",
       "      <td>BASMATI RICE</td>\n",
       "      <td>BAG</td>\n",
       "      <td>25 KG</td>\n",
       "      <td>128.00</td>\n",
       "      <td>1</td>\n",
       "      <td>1</td>\n",
       "      <td>0</td>\n",
       "      <td>25000.0</td>\n",
       "    </tr>\n",
       "    <tr>\n",
       "      <th>2</th>\n",
       "      <td>2019-08-12</td>\n",
       "      <td>2111797</td>\n",
       "      <td>UNIVERSAL TRADE &amp; AGENCY</td>\n",
       "      <td>FBR08A30416B10</td>\n",
       "      <td>BASMATI RICE</td>\n",
       "      <td>BAG</td>\n",
       "      <td>25 KG</td>\n",
       "      <td>67.00</td>\n",
       "      <td>1</td>\n",
       "      <td>1</td>\n",
       "      <td>0</td>\n",
       "      <td>25000.0</td>\n",
       "    </tr>\n",
       "  </tbody>\n",
       "</table>\n",
       "</div>"
      ],
      "text/plain": [
       "  Billing Date  Customer Code               Distributor   Material Code  \\\n",
       "0   2019-08-02        2111797  UNIVERSAL TRADE & AGENCY  FBR08A30416B10   \n",
       "1   2019-09-10        2111797  UNIVERSAL TRADE & AGENCY  FBR04A20102B10   \n",
       "2   2019-08-12        2111797  UNIVERSAL TRADE & AGENCY  FBR08A30416B10   \n",
       "\n",
       "   Product Type Pack Type Pack Size  YTD Vol (MT)  Sales_Zone_EAST  \\\n",
       "0  BASMATI RICE       BAG     25 KG        157.35                1   \n",
       "1  BASMATI RICE       BAG     25 KG        128.00                1   \n",
       "2  BASMATI RICE       BAG     25 KG         67.00                1   \n",
       "\n",
       "   Pack Classification_BP  Pack Classification_CP  Pack Size (g)  \n",
       "0                       1                       0        25000.0  \n",
       "1                       1                       0        25000.0  \n",
       "2                       1                       0        25000.0  "
      ]
     },
     "execution_count": 157,
     "metadata": {},
     "output_type": "execute_result"
    }
   ],
   "source": [
    "customer.head(3)"
   ]
  },
  {
   "cell_type": "code",
   "execution_count": 158,
   "id": "47beac76",
   "metadata": {},
   "outputs": [
    {
     "data": {
      "text/plain": [
       "dtype('float64')"
      ]
     },
     "execution_count": 158,
     "metadata": {},
     "output_type": "execute_result"
    }
   ],
   "source": [
    "customer['Pack Size (g)'].dtype"
   ]
  },
  {
   "cell_type": "markdown",
   "id": "cc63804c",
   "metadata": {},
   "source": [
    "## Merge"
   ]
  },
  {
   "cell_type": "code",
   "execution_count": 159,
   "id": "72e8f032",
   "metadata": {},
   "outputs": [],
   "source": [
    "customer['Total Pack'] = customer['Pack Size (g)'] * customer['YTD Vol (MT)']"
   ]
  },
  {
   "cell_type": "code",
   "execution_count": 160,
   "id": "82666a1c",
   "metadata": {},
   "outputs": [
    {
     "data": {
      "text/html": [
       "<div>\n",
       "<style scoped>\n",
       "    .dataframe tbody tr th:only-of-type {\n",
       "        vertical-align: middle;\n",
       "    }\n",
       "\n",
       "    .dataframe tbody tr th {\n",
       "        vertical-align: top;\n",
       "    }\n",
       "\n",
       "    .dataframe thead th {\n",
       "        text-align: right;\n",
       "    }\n",
       "</style>\n",
       "<table border=\"1\" class=\"dataframe\">\n",
       "  <thead>\n",
       "    <tr style=\"text-align: right;\">\n",
       "      <th></th>\n",
       "      <th>Billing Date</th>\n",
       "      <th>Customer Code</th>\n",
       "      <th>Distributor</th>\n",
       "      <th>Material Code</th>\n",
       "      <th>Product Type</th>\n",
       "      <th>Pack Type</th>\n",
       "      <th>Pack Size</th>\n",
       "      <th>YTD Vol (MT)</th>\n",
       "      <th>Sales_Zone_EAST</th>\n",
       "      <th>Pack Classification_BP</th>\n",
       "      <th>Pack Classification_CP</th>\n",
       "      <th>Pack Size (g)</th>\n",
       "      <th>Total Pack</th>\n",
       "    </tr>\n",
       "  </thead>\n",
       "  <tbody>\n",
       "    <tr>\n",
       "      <th>0</th>\n",
       "      <td>2019-08-02</td>\n",
       "      <td>2111797</td>\n",
       "      <td>UNIVERSAL TRADE &amp; AGENCY</td>\n",
       "      <td>FBR08A30416B10</td>\n",
       "      <td>BASMATI RICE</td>\n",
       "      <td>BAG</td>\n",
       "      <td>25 KG</td>\n",
       "      <td>157.35</td>\n",
       "      <td>1</td>\n",
       "      <td>1</td>\n",
       "      <td>0</td>\n",
       "      <td>25000.0</td>\n",
       "      <td>3933750.0</td>\n",
       "    </tr>\n",
       "    <tr>\n",
       "      <th>1</th>\n",
       "      <td>2019-09-10</td>\n",
       "      <td>2111797</td>\n",
       "      <td>UNIVERSAL TRADE &amp; AGENCY</td>\n",
       "      <td>FBR04A20102B10</td>\n",
       "      <td>BASMATI RICE</td>\n",
       "      <td>BAG</td>\n",
       "      <td>25 KG</td>\n",
       "      <td>128.00</td>\n",
       "      <td>1</td>\n",
       "      <td>1</td>\n",
       "      <td>0</td>\n",
       "      <td>25000.0</td>\n",
       "      <td>3200000.0</td>\n",
       "    </tr>\n",
       "    <tr>\n",
       "      <th>2</th>\n",
       "      <td>2019-08-12</td>\n",
       "      <td>2111797</td>\n",
       "      <td>UNIVERSAL TRADE &amp; AGENCY</td>\n",
       "      <td>FBR08A30416B10</td>\n",
       "      <td>BASMATI RICE</td>\n",
       "      <td>BAG</td>\n",
       "      <td>25 KG</td>\n",
       "      <td>67.00</td>\n",
       "      <td>1</td>\n",
       "      <td>1</td>\n",
       "      <td>0</td>\n",
       "      <td>25000.0</td>\n",
       "      <td>1675000.0</td>\n",
       "    </tr>\n",
       "  </tbody>\n",
       "</table>\n",
       "</div>"
      ],
      "text/plain": [
       "  Billing Date  Customer Code               Distributor   Material Code  \\\n",
       "0   2019-08-02        2111797  UNIVERSAL TRADE & AGENCY  FBR08A30416B10   \n",
       "1   2019-09-10        2111797  UNIVERSAL TRADE & AGENCY  FBR04A20102B10   \n",
       "2   2019-08-12        2111797  UNIVERSAL TRADE & AGENCY  FBR08A30416B10   \n",
       "\n",
       "   Product Type Pack Type Pack Size  YTD Vol (MT)  Sales_Zone_EAST  \\\n",
       "0  BASMATI RICE       BAG     25 KG        157.35                1   \n",
       "1  BASMATI RICE       BAG     25 KG        128.00                1   \n",
       "2  BASMATI RICE       BAG     25 KG         67.00                1   \n",
       "\n",
       "   Pack Classification_BP  Pack Classification_CP  Pack Size (g)  Total Pack  \n",
       "0                       1                       0        25000.0   3933750.0  \n",
       "1                       1                       0        25000.0   3200000.0  \n",
       "2                       1                       0        25000.0   1675000.0  "
      ]
     },
     "execution_count": 160,
     "metadata": {},
     "output_type": "execute_result"
    }
   ],
   "source": [
    "customer.head(3)"
   ]
  },
  {
   "cell_type": "markdown",
   "id": "4365a0ce",
   "metadata": {},
   "source": [
    "## Pivot Table"
   ]
  },
  {
   "cell_type": "code",
   "execution_count": 161,
   "id": "3d9f04ac",
   "metadata": {},
   "outputs": [
    {
     "name": "stdout",
     "output_type": "stream",
     "text": [
      "                 Total Pack\n",
      "Customer Code              \n",
      "2110342        110777.90500\n",
      "2110343        942620.00000\n",
      "2110345         91035.01805\n",
      "2110347        198837.47200\n",
      "2110348         52255.05800\n",
      "...                     ...\n",
      "2128514           111.45000\n",
      "2128542         38855.13980\n",
      "2128558          2730.99600\n",
      "2128680          1187.71100\n",
      "2128682          2933.45500\n",
      "\n",
      "[894 rows x 1 columns]\n"
     ]
    }
   ],
   "source": [
    "pivot_table = pd.pivot_table(customer, values='Total Pack', index='Customer Code', aggfunc='sum')\n",
    "\n",
    "print(pivot_table)"
   ]
  },
  {
   "cell_type": "markdown",
   "id": "9c26ead8",
   "metadata": {},
   "source": [
    "## Melt"
   ]
  },
  {
   "cell_type": "code",
   "execution_count": 162,
   "id": "81f6cb85",
   "metadata": {},
   "outputs": [
    {
     "name": "stdout",
     "output_type": "stream",
     "text": [
      "         Customer Code     Pack Size        Pack Size (g)\n",
      "0              2111797  Billing Date  2019-08-02 00:00:00\n",
      "1              2111797  Billing Date  2019-09-10 00:00:00\n",
      "2              2111797  Billing Date  2019-08-12 00:00:00\n",
      "3              2111797  Billing Date  2019-04-06 00:00:00\n",
      "4              2111797  Billing Date  2019-05-11 00:00:00\n",
      "...                ...           ...                  ...\n",
      "1093303        2116123    Total Pack              -3750.0\n",
      "1093304        2117167    Total Pack             -39900.0\n",
      "1093305        2119186    Total Pack            -250000.0\n",
      "1093306        2111229    Total Pack              -5460.0\n",
      "1093307        2124345    Total Pack            -120000.0\n",
      "\n",
      "[1093308 rows x 3 columns]\n"
     ]
    }
   ],
   "source": [
    "melted = pd.melt(customer, id_vars=['Customer Code'], var_name='Pack Size', value_name='Pack Size (g)')\n",
    "\n",
    "print(melted)"
   ]
  },
  {
   "cell_type": "code",
   "execution_count": 163,
   "id": "7e3ecd9a",
   "metadata": {},
   "outputs": [
    {
     "data": {
      "text/html": [
       "<div>\n",
       "<style scoped>\n",
       "    .dataframe tbody tr th:only-of-type {\n",
       "        vertical-align: middle;\n",
       "    }\n",
       "\n",
       "    .dataframe tbody tr th {\n",
       "        vertical-align: top;\n",
       "    }\n",
       "\n",
       "    .dataframe thead th {\n",
       "        text-align: right;\n",
       "    }\n",
       "</style>\n",
       "<table border=\"1\" class=\"dataframe\">\n",
       "  <thead>\n",
       "    <tr style=\"text-align: right;\">\n",
       "      <th></th>\n",
       "      <th>Billing Date</th>\n",
       "      <th>Customer Code</th>\n",
       "      <th>Distributor</th>\n",
       "      <th>Material Code</th>\n",
       "      <th>Product Type</th>\n",
       "      <th>Pack Type</th>\n",
       "      <th>Pack Size</th>\n",
       "      <th>YTD Vol (MT)</th>\n",
       "      <th>Sales_Zone_EAST</th>\n",
       "      <th>Pack Classification_BP</th>\n",
       "      <th>Pack Classification_CP</th>\n",
       "      <th>Pack Size (g)</th>\n",
       "      <th>Total Pack</th>\n",
       "    </tr>\n",
       "  </thead>\n",
       "  <tbody>\n",
       "    <tr>\n",
       "      <th>0</th>\n",
       "      <td>2019-08-02</td>\n",
       "      <td>2111797</td>\n",
       "      <td>UNIVERSAL TRADE &amp; AGENCY</td>\n",
       "      <td>FBR08A30416B10</td>\n",
       "      <td>BASMATI RICE</td>\n",
       "      <td>BAG</td>\n",
       "      <td>25 KG</td>\n",
       "      <td>157.35</td>\n",
       "      <td>1</td>\n",
       "      <td>1</td>\n",
       "      <td>0</td>\n",
       "      <td>25000.0</td>\n",
       "      <td>3933750.0</td>\n",
       "    </tr>\n",
       "    <tr>\n",
       "      <th>1</th>\n",
       "      <td>2019-09-10</td>\n",
       "      <td>2111797</td>\n",
       "      <td>UNIVERSAL TRADE &amp; AGENCY</td>\n",
       "      <td>FBR04A20102B10</td>\n",
       "      <td>BASMATI RICE</td>\n",
       "      <td>BAG</td>\n",
       "      <td>25 KG</td>\n",
       "      <td>128.00</td>\n",
       "      <td>1</td>\n",
       "      <td>1</td>\n",
       "      <td>0</td>\n",
       "      <td>25000.0</td>\n",
       "      <td>3200000.0</td>\n",
       "    </tr>\n",
       "  </tbody>\n",
       "</table>\n",
       "</div>"
      ],
      "text/plain": [
       "  Billing Date  Customer Code               Distributor   Material Code  \\\n",
       "0   2019-08-02        2111797  UNIVERSAL TRADE & AGENCY  FBR08A30416B10   \n",
       "1   2019-09-10        2111797  UNIVERSAL TRADE & AGENCY  FBR04A20102B10   \n",
       "\n",
       "   Product Type Pack Type Pack Size  YTD Vol (MT)  Sales_Zone_EAST  \\\n",
       "0  BASMATI RICE       BAG     25 KG        157.35                1   \n",
       "1  BASMATI RICE       BAG     25 KG        128.00                1   \n",
       "\n",
       "   Pack Classification_BP  Pack Classification_CP  Pack Size (g)  Total Pack  \n",
       "0                       1                       0        25000.0   3933750.0  \n",
       "1                       1                       0        25000.0   3200000.0  "
      ]
     },
     "execution_count": 163,
     "metadata": {},
     "output_type": "execute_result"
    }
   ],
   "source": [
    "customer.head(2)"
   ]
  },
  {
   "cell_type": "code",
   "execution_count": 164,
   "id": "304426c7",
   "metadata": {},
   "outputs": [
    {
     "name": "stdout",
     "output_type": "stream",
     "text": [
      "Minimum values:\n",
      " -250000.0\n",
      "\n",
      "Maximum values:\n",
      " 3933750.0\n",
      "\n",
      "Standard deviation values:\n",
      " 48154.89327603854\n",
      "\n",
      "Mean values:\n",
      " 5524.599449301543\n"
     ]
    }
   ],
   "source": [
    "# Apply min, max, std, mean functions on all numeric columns\n",
    "min_values = customer['Total Pack'].min()\n",
    "max_values = customer['Total Pack'].max()\n",
    "std_values = customer['Total Pack'].std()\n",
    "mean_values = customer['Total Pack'].mean()\n",
    "\n",
    "# Print the results\n",
    "print(\"Minimum values:\\n\", min_values)\n",
    "print(\"\\nMaximum values:\\n\", max_values)\n",
    "print(\"\\nStandard deviation values:\\n\", std_values)\n",
    "print(\"\\nMean values:\\n\", mean_values)"
   ]
  },
  {
   "cell_type": "markdown",
   "id": "d3378820",
   "metadata": {},
   "source": [
    "# ML Technique"
   ]
  },
  {
   "cell_type": "code",
   "execution_count": 125,
   "id": "8fc6ba5b",
   "metadata": {},
   "outputs": [
    {
     "name": "stdout",
     "output_type": "stream",
     "text": [
      "Accuracy: 0.9998902425639337\n",
      "Classification Report:\n",
      "              precision    recall  f1-score   support\n",
      "\n",
      "         Low       1.00      1.00      1.00     18220\n",
      "      Medium       0.00      0.00      0.00         2\n",
      "\n",
      "    accuracy                           1.00     18222\n",
      "   macro avg       0.50      0.50      0.50     18222\n",
      "weighted avg       1.00      1.00      1.00     18222\n",
      "\n"
     ]
    }
   ],
   "source": [
    "import pandas as pd\n",
    "from sklearn.model_selection import train_test_split\n",
    "from sklearn.linear_model import LogisticRegression\n",
    "from sklearn.metrics import accuracy_score, classification_report\n",
    "from sklearn.preprocessing import OrdinalEncoder\n",
    "\n",
    "\n",
    "# Perform ordinal encoding on 'Customer Code'\n",
    "ordinal_encoder = OrdinalEncoder()\n",
    "customer['Customer Code Encoded'] = ordinal_encoder.fit_transform(customer[['Customer Code']])\n",
    "\n",
    "# Discretize 'Total Pack' into classes for classification\n",
    "customer['Total Pack Class'] = pd.cut(customer['Total Pack'], bins=3, labels=['Low', 'Medium', 'High'])\n",
    "\n",
    "# Split data into independent (X) and dependent (y) variables\n",
    "X = customer[['Customer Code Encoded']]\n",
    "y = customer['Total Pack Class']\n",
    "\n",
    "# Split data into training and testing sets\n",
    "X_train, X_test, y_train, y_test = train_test_split(X, y, test_size=0.2, random_state=42)\n",
    "\n",
    "# Initialize and train a Logistic Regression model\n",
    "model = LogisticRegression()\n",
    "model.fit(X_train, y_train)\n",
    "\n",
    "# Make predictions\n",
    "y_pred = model.predict(X_test)\n",
    "\n",
    "# Evaluate model performance\n",
    "accuracy = accuracy_score(y_test, y_pred)\n",
    "report = classification_report(y_test, y_pred)\n",
    "\n",
    "print(f\"Accuracy: {accuracy}\")\n",
    "print(\"Classification Report:\")\n",
    "print(report)\n"
   ]
  },
  {
   "cell_type": "markdown",
   "id": "3a10ed37",
   "metadata": {},
   "source": [
    "## with Oversampling "
   ]
  },
  {
   "cell_type": "code",
   "execution_count": 166,
   "id": "86c6fc29",
   "metadata": {},
   "outputs": [
    {
     "name": "stdout",
     "output_type": "stream",
     "text": [
      "Class Distribution:\n",
      "Low       31576\n",
      "High      30282\n",
      "Medium    29251\n",
      "Name: Total Pack Class, dtype: int64\n",
      "Accuracy: 0.6232450121397657\n",
      "Classification Report:\n",
      "              precision    recall  f1-score   support\n",
      "\n",
      "        High       1.00      0.82      0.90      6261\n",
      "         Low       0.48      0.55      0.51      6302\n",
      "      Medium       0.48      0.50      0.49      6383\n",
      "\n",
      "    accuracy                           0.62     18946\n",
      "   macro avg       0.65      0.62      0.64     18946\n",
      "weighted avg       0.65      0.62      0.63     18946\n",
      "\n"
     ]
    }
   ],
   "source": [
    "import pandas as pd\n",
    "from sklearn.model_selection import train_test_split\n",
    "from sklearn.linear_model import LogisticRegression\n",
    "from sklearn.metrics import accuracy_score, classification_report\n",
    "from sklearn.preprocessing import StandardScaler, OrdinalEncoder\n",
    "from imblearn.over_sampling import SMOTE\n",
    "\n",
    "\n",
    "# Perform ordinal encoding on 'Customer Code'\n",
    "ordinal_encoder = OrdinalEncoder()\n",
    "customer['Customer Code Encoded'] = ordinal_encoder.fit_transform(customer[['Customer Code']])\n",
    "\n",
    "# Scale 'Total Pack' for better handling in logistic regression\n",
    "scaler = StandardScaler()\n",
    "customer['Total Pack Scaled'] = scaler.fit_transform(customer[['Total Pack']])\n",
    "\n",
    "# Define bins based on quantiles\n",
    "bins = pd.qcut(customer['Total Pack Scaled'], q=3, labels=['Low', 'Medium', 'High'], duplicates='drop')\n",
    "customer['Total Pack Class'] = bins\n",
    "\n",
    "# Check class distribution\n",
    "print(\"Class Distribution:\")\n",
    "print(customer['Total Pack Class'].value_counts())\n",
    "\n",
    "# Split data into independent (X) and dependent (y) variables\n",
    "X = customer[['Customer Code Encoded', 'Total Pack Scaled']]\n",
    "y = customer['Total Pack Class']\n",
    "\n",
    "# Apply SMOTE to handle class imbalance\n",
    "smote = SMOTE(random_state=42)\n",
    "X_resampled, y_resampled = smote.fit_resample(X, y)\n",
    "\n",
    "# Split resampled data into training and testing sets\n",
    "X_train, X_test, y_train, y_test = train_test_split(X_resampled, y_resampled, test_size=0.2, random_state=42)\n",
    "\n",
    "# Initialize and train a Logistic Regression model\n",
    "model = LogisticRegression(random_state=42)\n",
    "model.fit(X_train, y_train)\n",
    "\n",
    "# Make predictions\n",
    "y_pred = model.predict(X_test)\n",
    "\n",
    "# Evaluate model performance\n",
    "accuracy = accuracy_score(y_test, y_pred)\n",
    "report = classification_report(y_test, y_pred)\n",
    "\n",
    "print(f\"Accuracy: {accuracy}\")\n",
    "print(\"Classification Report:\")\n",
    "print(report)\n"
   ]
  },
  {
   "cell_type": "markdown",
   "id": "65630254",
   "metadata": {},
   "source": [
    "## Analysis\n",
    "\n",
    "Balanced Class Distribution: The dataset shows a relatively balanced distribution across the 'Total Pack Class' categories, with approximately 31,576 samples for 'Low', 30,282 samples for 'High', and 29,251 samples for 'Medium'. This balanced distribution ensures that the model has been trained on a diverse set of examples from each class, contributing to a more robust and generalized model.\n",
    "\n",
    "Reasonable Accuracy: The model achieves an accuracy of 0.623, which indicates that it correctly predicts the 'Total Pack Class' for approximately 62.3% of the samples in the test dataset. This level of accuracy suggests that the model is performing above random chance and is making meaningful predictions based on the input features.\n",
    "\n",
    "Precision and Recall Scores: The classification report reveals positive precision and recall scores across all classes. Specifically, for the 'High' class, the precision is perfect at 1.00, indicating that all predictions for this class were correct. The recall for 'High' is 0.82, indicating that the model correctly identifies 82% of all 'High' instances in the dataset. Similarly, the 'Low' and 'Medium' classes show reasonable precision and recall scores, demonstrating the model's ability to differentiate between these classes.\n",
    "\n",
    "Overall Model Performance: The weighted average F1-score of 0.63 indicates a balanced performance across all classes, taking into account both precision and recall. This suggests that the model strikes a good balance between correctly identifying each class ('High', 'Low', 'Medium') and minimizing false positives and false negatives."
   ]
  },
  {
   "cell_type": "markdown",
   "id": "cce8517f",
   "metadata": {},
   "source": [
    "# Ranking"
   ]
  },
  {
   "cell_type": "code",
   "execution_count": 165,
   "id": "582977ce",
   "metadata": {},
   "outputs": [
    {
     "name": "stdout",
     "output_type": "stream",
     "text": [
      "       Customer Code  Total Pack   Rank\n",
      "0            2111797   3933750.0      1\n",
      "1            2111797   3200000.0      2\n",
      "2            2111797   1675000.0      3\n",
      "3            2111797   1600000.0      4\n",
      "4            2111797   1600000.0      5\n",
      "...              ...         ...    ...\n",
      "91089        2123054    -37500.0  91105\n",
      "91105        2117167    -39900.0  91106\n",
      "91099        2123054    -71875.0  91107\n",
      "91108        2124345   -120000.0  91108\n",
      "91106        2119186   -250000.0  91109\n",
      "\n",
      "[91109 rows x 3 columns]\n"
     ]
    }
   ],
   "source": [
    "# Sort by 'Total Pack' in descending order\n",
    "customer_sorted = customer.sort_values(by='Total Pack', ascending=False)\n",
    "\n",
    "# Assign ranks\n",
    "customer_sorted['Rank'] = range(1, len(customer_sorted) + 1)\n",
    "\n",
    "# Display the ranked data\n",
    "print(customer_sorted[['Customer Code', 'Total Pack', 'Rank']])"
   ]
  },
  {
   "cell_type": "code",
   "execution_count": 167,
   "id": "d9043845",
   "metadata": {},
   "outputs": [
    {
     "data": {
      "text/plain": [
       "Index(['Billing Date', 'Customer Code', 'Distributor', 'Material Code',\n",
       "       'Product Type', 'Pack Type', 'Pack Size', 'YTD Vol (MT)',\n",
       "       'Sales_Zone_EAST', 'Pack Classification_BP', 'Pack Classification_CP',\n",
       "       'Pack Size (g)', 'Total Pack', 'Customer Code Encoded',\n",
       "       'Total Pack Scaled', 'Total Pack Class'],\n",
       "      dtype='object')"
      ]
     },
     "execution_count": 167,
     "metadata": {},
     "output_type": "execute_result"
    }
   ],
   "source": [
    "customer.columns"
   ]
  },
  {
   "cell_type": "markdown",
   "id": "85d435f5",
   "metadata": {},
   "source": [
    "## Filters"
   ]
  },
  {
   "cell_type": "code",
   "execution_count": 168,
   "id": "f6fa6b9a",
   "metadata": {},
   "outputs": [
    {
     "name": "stdout",
     "output_type": "stream",
     "text": [
      "  Billing Date Customer Code Distributor Material Code Product Type Pack Type  \\\n",
      "2   2023-01-03          C001        D001          M002        Type1     PackB   \n",
      "3   2023-01-04          C002        D002          M003        Type2     PackB   \n",
      "5   2023-01-06          C003        D003          M001        Type2     PackB   \n",
      "6   2023-01-07          C001        D001          M002        Type1     PackB   \n",
      "8   2023-01-09          C001        D001          M001        Type2     PackA   \n",
      "\n",
      "   Pack Size  YTD Vol (MT)  Sales_Zone_EAST Pack Classification_BP  \\\n",
      "2        111    964.796772                0                     No   \n",
      "3         67    893.831872                0                    Yes   \n",
      "5        184    566.638270                0                     No   \n",
      "6        185    280.003871                0                     No   \n",
      "8         68    470.409089                1                    Yes   \n",
      "\n",
      "  Pack Classification_CP  Pack Size (g)  Total Pack  Customer Code Encoded  \\\n",
      "2                    Yes             61        7424                     77   \n",
      "3                    Yes            180        7549                     99   \n",
      "5                    Yes            131        6574                     12   \n",
      "6                    Yes             65        5731                      1   \n",
      "8                     No            124        7196                     62   \n",
      "\n",
      "   Total Pack Scaled Total Pack Class  \n",
      "2           0.988593             High  \n",
      "3           0.644253           Medium  \n",
      "5           0.328561             High  \n",
      "6           0.946561             High  \n",
      "8           0.600741           Medium  \n"
     ]
    }
   ],
   "source": [
    "import pandas as pd\n",
    "import numpy as np\n",
    "\n",
    "# Example DataFrame (replace with your actual data loading code)\n",
    "data = {\n",
    "    'Billing Date': pd.date_range(start='2023-01-01', periods=100),\n",
    "    'Customer Code': np.random.choice(['C001', 'C002', 'C003'], 100),\n",
    "    'Distributor': np.random.choice(['D001', 'D002', 'D003'], 100),\n",
    "    'Material Code': np.random.choice(['M001', 'M002', 'M003'], 100),\n",
    "    'Product Type': np.random.choice(['Type1', 'Type2'], 100),\n",
    "    'Pack Type': np.random.choice(['PackA', 'PackB'], 100),\n",
    "    'Pack Size': np.random.randint(50, 500, size=100),\n",
    "    'YTD Vol (MT)': np.random.uniform(100, 1000, size=100),\n",
    "    'Sales_Zone_EAST': np.random.choice([0, 1], 100),\n",
    "    'Pack Classification_BP': np.random.choice(['Yes', 'No'], 100),\n",
    "    'Pack Classification_CP': np.random.choice(['Yes', 'No'], 100),\n",
    "    'Pack Size (g)': np.random.randint(10, 200, size=100),\n",
    "    'Total Pack': np.random.randint(1000, 10000, size=100),\n",
    "    'Customer Code Encoded': np.random.randint(0, 100, size=100),\n",
    "    'Total Pack Scaled': np.random.uniform(0, 1, size=100),\n",
    "    'Total Pack Class': np.random.choice(['Low', 'Medium', 'High'], 100)\n",
    "}\n",
    "\n",
    "df = pd.DataFrame(data)\n",
    "\n",
    "# Randomly choose two columns for filtering (example)\n",
    "column1 = 'Total Pack'\n",
    "column2 = 'Pack Size'\n",
    "\n",
    "# Define filtering conditions based on the chosen columns\n",
    "condition1 = df[column1] > 5000\n",
    "condition2 = df[column2] < 200\n",
    "\n",
    "# Apply AND operation to filter the data\n",
    "filtered_data = df[condition1 & condition2]\n",
    "\n",
    "# Display filtered data\n",
    "print(filtered_data.head())\n"
   ]
  },
  {
   "cell_type": "code",
   "execution_count": null,
   "id": "ef00679f",
   "metadata": {},
   "outputs": [],
   "source": []
  }
 ],
 "metadata": {
  "kernelspec": {
   "display_name": "Python 3 (ipykernel)",
   "language": "python",
   "name": "python3"
  },
  "language_info": {
   "codemirror_mode": {
    "name": "ipython",
    "version": 3
   },
   "file_extension": ".py",
   "mimetype": "text/x-python",
   "name": "python",
   "nbconvert_exporter": "python",
   "pygments_lexer": "ipython3",
   "version": "3.9.13"
  }
 },
 "nbformat": 4,
 "nbformat_minor": 5
}
